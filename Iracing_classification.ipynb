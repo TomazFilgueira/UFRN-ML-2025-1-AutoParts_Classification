{
 "cells": [
  {
   "cell_type": "markdown",
   "metadata": {
    "colab_type": "text",
    "id": "view-in-github"
   },
   "source": [
    "<a href=\"https://colab.research.google.com/github/TomazFilgueira/UFRN-ML-2025-1-AutoParts_Classification/blob/main/Iracing_classification.ipynb\" target=\"_parent\"><img src=\"https://colab.research.google.com/assets/colab-badge.svg\" alt=\"Open In Colab\"/></a>"
   ]
  },
  {
   "cell_type": "code",
   "execution_count": 2,
   "metadata": {
    "id": "y8oXM6PjM9nt"
   },
   "outputs": [],
   "source": [
    "# Import standard libraries for randomness, deep copying, and numerical operations\n",
    "import random\n",
    "import numpy as np\n",
    "from copy import deepcopy\n",
    "\n",
    "# Import libraries for image processing and data manipulation\n",
    "from PIL import Image\n",
    "import pandas as pd\n",
    "\n",
    "# Import PyTorch core and utilities for deep learning\n",
    "import torch\n",
    "import torch.optim as optim  # Optimization algorithms\n",
    "import torch.nn as nn  # Neural network modules\n",
    "import torch.nn.functional as F  # Functional API for non-parametric operations\n",
    "\n",
    "# Import PyTorch utilities for data loading and transformations\n",
    "from torch.utils.data import DataLoader, Dataset, random_split, WeightedRandomSampler\n",
    "from torchvision.transforms.v2 import Compose, ToImage, Normalize, ToPILImage, Resize, ToDtype\n",
    "\n",
    "# Import dataset handling and learning rate schedulers\n",
    "from torchvision.datasets import ImageFolder\n",
    "from torch.optim.lr_scheduler import StepLR, ReduceLROnPlateau, MultiStepLR, CyclicLR, LambdaLR\n",
    "\n",
    "# Import visualization \n",
    "import matplotlib.pyplot as plt\n",
    "import seaborn as sns\n",
    "from sklearn.metrics import confusion_matrix\n",
    "\n",
    "# Set matplotlib style for better visuals\n",
    "plt.style.use('fivethirtyeight')"
   ]
  },
  {
   "cell_type": "code",
   "execution_count": 3,
   "metadata": {
    "id": "8snON0VfNXTg"
   },
   "outputs": [],
   "source": [
    "class Architecture(object):\n",
    "    def __init__(self, model, loss_fn, optimizer):\n",
    "        # Here we define the attributes of our class\n",
    "\n",
    "        # We start by storing the arguments as attributes\n",
    "        # to use them later\n",
    "        self.model = model\n",
    "        self.loss_fn = loss_fn\n",
    "        self.optimizer = optimizer\n",
    "        self.device = 'cuda' if torch.cuda.is_available() else 'cpu'\n",
    "        # Let's send the model to the specified device right away\n",
    "        self.model.to(self.device)\n",
    "\n",
    "        # These attributes are defined here, but since they are\n",
    "        # not informed at the moment of creation, we keep them None\n",
    "        self.train_loader = None\n",
    "        self.val_loader = None\n",
    "\n",
    "        # These attributes are going to be computed internally\n",
    "        self.losses = []\n",
    "        self.val_losses = []\n",
    "        self.total_epochs = 0\n",
    "\n",
    "        # Creates the train_step function for our model,\n",
    "        # loss function and optimizer\n",
    "        # Note: there are NO ARGS there! It makes use of the class\n",
    "        # attributes directly\n",
    "        self.train_step_fn = self._make_train_step_fn()\n",
    "        # Creates the val_step function for our model and loss\n",
    "        self.val_step_fn = self._make_val_step_fn()\n",
    "\n",
    "        # for hook purposes\n",
    "        self.handles = {}\n",
    "        self.visualization = {}\n",
    "\n",
    "    def to(self, device):\n",
    "        # This method allows the user to specify a different device\n",
    "        # It sets the corresponding attribute (to be used later in\n",
    "        # the mini-batches) and sends the model to the device\n",
    "        try:\n",
    "            self.device = device\n",
    "            self.model.to(self.device)\n",
    "        except RuntimeError:\n",
    "            self.device = 'cuda' if torch.cuda.is_available() else 'cpu'\n",
    "            print(f\"Couldn't send it to {device}, sending it to {self.device} instead.\")\n",
    "            self.model.to(self.device)\n",
    "\n",
    "    def set_loaders(self, train_loader, val_loader=None):\n",
    "        # This method allows the user to define which train_loader (and val_loader, optionally) to use\n",
    "        # Both loaders are then assigned to attributes of the class\n",
    "        # So they can be referred to later\n",
    "        self.train_loader = train_loader\n",
    "        self.val_loader = val_loader\n",
    "\n",
    "    def _make_train_step_fn(self):\n",
    "        # This method does not need ARGS... it can refer to\n",
    "        # the attributes: self.model, self.loss_fn and self.optimizer\n",
    "\n",
    "        # Builds function that performs a step in the train loop\n",
    "        def perform_train_step_fn(x, y):\n",
    "            # Sets model to TRAIN mode\n",
    "            self.model.train()\n",
    "\n",
    "            # Step 1 - Computes our model's predicted output - forward pass\n",
    "            yhat = self.model(x)\n",
    "            # Step 2 - Computes the loss\n",
    "            loss = self.loss_fn(yhat, y)\n",
    "            # Step 3 - Computes gradients for both \"a\" and \"b\" parameters\n",
    "            loss.backward()\n",
    "            # Step 4 - Updates parameters using gradients and the learning rate\n",
    "            self.optimizer.step()\n",
    "            self.optimizer.zero_grad()\n",
    "\n",
    "            # Returns the loss\n",
    "            return loss.item()\n",
    "\n",
    "        # Returns the function that will be called inside the train loop\n",
    "        return perform_train_step_fn\n",
    "\n",
    "    def _make_val_step_fn(self):\n",
    "        # Builds function that performs a step in the validation loop\n",
    "        def perform_val_step_fn(x, y):\n",
    "            # Sets model to EVAL mode\n",
    "            self.model.eval()\n",
    "\n",
    "            # Step 1 - Computes our model's predicted output - forward pass\n",
    "            yhat = self.model(x)\n",
    "            # Step 2 - Computes the loss\n",
    "            loss = self.loss_fn(yhat, y)\n",
    "            # There is no need to compute Steps 3 and 4, since we don't update parameters during evaluation\n",
    "            return loss.item()\n",
    "\n",
    "        return perform_val_step_fn\n",
    "\n",
    "    def _mini_batch(self, validation=False):\n",
    "        # The mini-batch can be used with both loaders\n",
    "        # The argument `validation`defines which loader and\n",
    "        # corresponding step function is going to be used\n",
    "        if validation:\n",
    "            data_loader = self.val_loader\n",
    "            step_fn = self.val_step_fn\n",
    "        else:\n",
    "            data_loader = self.train_loader\n",
    "            step_fn = self.train_step_fn\n",
    "\n",
    "        if data_loader is None:\n",
    "            return None\n",
    "\n",
    "        # Once the data loader and step function, this is the same\n",
    "        # mini-batch loop we had before\n",
    "        mini_batch_losses = []\n",
    "        for x_batch, y_batch in data_loader:\n",
    "            x_batch = x_batch.to(self.device)\n",
    "            y_batch = y_batch.to(self.device)\n",
    "\n",
    "            mini_batch_loss = step_fn(x_batch, y_batch)\n",
    "            mini_batch_losses.append(mini_batch_loss)\n",
    "\n",
    "        loss = np.mean(mini_batch_losses)\n",
    "        return loss\n",
    "\n",
    "    # this function was updated in this class\n",
    "    def set_seed(self, seed=42):\n",
    "        torch.backends.cudnn.deterministic = True\n",
    "        torch.backends.cudnn.benchmark = False\n",
    "        torch.manual_seed(seed)\n",
    "        np.random.seed(seed)\n",
    "        random.seed(seed)\n",
    "        try:\n",
    "            self.train_loader.sampler.generator.manual_seed(seed)\n",
    "        except AttributeError:\n",
    "            pass\n",
    "\n",
    "    def train(self, n_epochs, seed=42):\n",
    "        # To ensure reproducibility of the training process\n",
    "        self.set_seed(seed)\n",
    "\n",
    "        for epoch in range(n_epochs):\n",
    "            # Keeps track of the numbers of epochs\n",
    "            # by updating the corresponding attribute\n",
    "            self.total_epochs += 1\n",
    "\n",
    "            # inner loop\n",
    "            # Performs training using mini-batches\n",
    "            loss = self._mini_batch(validation=False)\n",
    "            self.losses.append(loss)\n",
    "\n",
    "            # VALIDATION\n",
    "            # no gradients in validation!\n",
    "            with torch.no_grad():\n",
    "                # Performs evaluation using mini-batches\n",
    "                val_loss = self._mini_batch(validation=True)\n",
    "                self.val_losses.append(val_loss)\n",
    "\n",
    "    def save_checkpoint(self, filename):\n",
    "        # Builds dictionary with all elements for resuming training\n",
    "        checkpoint = {'epoch': self.total_epochs,\n",
    "                      'model_state_dict': self.model.state_dict(),\n",
    "                      'optimizer_state_dict': self.optimizer.state_dict(),\n",
    "                      'loss': self.losses,\n",
    "                      'val_loss': self.val_losses}\n",
    "\n",
    "        torch.save(checkpoint, filename)\n",
    "\n",
    "    def load_checkpoint(self, filename):\n",
    "        # Loads dictionary\n",
    "        checkpoint = torch.load(filename)\n",
    "\n",
    "        # Restore state for model and optimizer\n",
    "        self.model.load_state_dict(checkpoint['model_state_dict'])\n",
    "        self.optimizer.load_state_dict(checkpoint['optimizer_state_dict'])\n",
    "\n",
    "        self.total_epochs = checkpoint['epoch']\n",
    "        self.losses = checkpoint['loss']\n",
    "        self.val_losses = checkpoint['val_loss']\n",
    "\n",
    "        self.model.train() # always use TRAIN for resuming training\n",
    "\n",
    "    def predict(self, x):\n",
    "        # Set is to evaluation mode for predictions\n",
    "        self.model.eval()\n",
    "        # Takes aNumpy input and make it a float tensor\n",
    "        x_tensor = torch.as_tensor(x).float()\n",
    "        # Send input to device and uses model for prediction\n",
    "        y_hat_tensor = self.model(x_tensor.to(self.device))\n",
    "        # Set it back to train mode\n",
    "        self.model.train()\n",
    "        # Detaches it, brings it to CPU and back to Numpy\n",
    "        return y_hat_tensor.detach().cpu().numpy()\n",
    "\n",
    "    def count_parameters(self):\n",
    "      return sum(p.numel() for p in self.model.parameters() if p.requires_grad)\n",
    "\n",
    "    def plot_losses(self):\n",
    "        fig = plt.figure(figsize=(10, 4))\n",
    "        plt.plot(self.losses, label='Training Loss', c='b')\n",
    "        plt.plot(self.val_losses, label='Validation Loss', c='r')\n",
    "        plt.yscale('log')\n",
    "        plt.xlabel('Epochs')\n",
    "        plt.ylabel('Loss')\n",
    "        plt.legend()\n",
    "        plt.tight_layout()\n",
    "        return fig\n",
    "\n",
    "    @staticmethod\n",
    "    def _visualize_tensors(axs, x, y=None, yhat=None, layer_name='', title=None):\n",
    "        # The number of images is the number of subplots in a row\n",
    "        n_images = len(axs)\n",
    "        # Gets max and min values for scaling the grayscale\n",
    "        minv, maxv = np.min(x[:n_images]), np.max(x[:n_images])\n",
    "        # For each image\n",
    "        for j, image in enumerate(x[:n_images]):\n",
    "            ax = axs[j]\n",
    "            # Sets title, labels, and removes ticks\n",
    "            if title is not None:\n",
    "                ax.set_title(f'{title} #{j}', fontsize=12)\n",
    "            shp = np.atleast_2d(image).shape\n",
    "            ax.set_ylabel(\n",
    "                f'{layer_name}\\n{shp[0]}x{shp[1]}',\n",
    "                rotation=0, labelpad=40\n",
    "            )\n",
    "            xlabel1 = '' if y is None else f'\\nLabel: {y[j]}'\n",
    "            xlabel2 = '' if yhat is None else f'\\nPredicted: {yhat[j]}'\n",
    "            xlabel = f'{xlabel1}{xlabel2}'\n",
    "            if len(xlabel):\n",
    "                ax.set_xlabel(xlabel, fontsize=12)\n",
    "            ax.set_xticks([])\n",
    "            ax.set_yticks([])\n",
    "\n",
    "            # Plots weight as an image\n",
    "            ax.imshow(\n",
    "                np.atleast_2d(image.squeeze()),\n",
    "                cmap='gray',\n",
    "                vmin=minv,\n",
    "                vmax=maxv\n",
    "            )\n",
    "        return\n",
    "\n",
    "    def visualize_filters(self, layer_name, **kwargs):\n",
    "        try:\n",
    "            # Gets the layer object from the model\n",
    "            layer = self.model\n",
    "            for name in layer_name.split('.'):\n",
    "                layer = getattr(layer, name)\n",
    "            # We are only looking at filters for 2D convolutions\n",
    "            if isinstance(layer, nn.Conv2d):\n",
    "                # Takes the weight information\n",
    "                weights = layer.weight.data.cpu().numpy()\n",
    "                # weights -> (channels_out (filter), channels_in, H, W)\n",
    "                n_filters, n_channels, _, _ = weights.shape\n",
    "\n",
    "                # Builds a figure\n",
    "                size = (2 * n_channels + 2, 2 * n_filters)\n",
    "                fig, axes = plt.subplots(n_filters, n_channels,\n",
    "                                        figsize=size)\n",
    "                axes = np.atleast_2d(axes)\n",
    "                axes = axes.reshape(n_filters, n_channels)\n",
    "                # For each channel_out (filter)\n",
    "                for i in range(n_filters):\n",
    "                    Architecture._visualize_tensors(\n",
    "                        axes[i, :],\n",
    "                        weights[i],\n",
    "                        layer_name=f'Filter #{i}',\n",
    "                        title='Channel'\n",
    "                    )\n",
    "\n",
    "                for ax in axes.flat:\n",
    "                    ax.label_outer()\n",
    "\n",
    "                fig.tight_layout()\n",
    "                return fig\n",
    "        except AttributeError:\n",
    "            return\n",
    "\n",
    "    def attach_hooks(self, layers_to_hook, hook_fn=None):\n",
    "        # Clear any previous values\n",
    "        self.visualization = {}\n",
    "        # Creates the dictionary to map layer objects to their names\n",
    "        modules = list(self.model.named_modules())\n",
    "        layer_names = {layer: name for name, layer in modules[1:]}\n",
    "\n",
    "        if hook_fn is None:\n",
    "            # Hook function to be attached to the forward pass\n",
    "            def hook_fn(layer, inputs, outputs):\n",
    "                # Gets the layer name\n",
    "                name = layer_names[layer]\n",
    "                # Detaches outputs\n",
    "                values = outputs.detach().cpu().numpy()\n",
    "                # Since the hook function may be called multiple times\n",
    "                # for example, if we make predictions for multiple mini-batches\n",
    "                # it concatenates the results\n",
    "                if self.visualization[name] is None:\n",
    "                    self.visualization[name] = values\n",
    "                else:\n",
    "                    self.visualization[name] = np.concatenate([self.visualization[name], values])\n",
    "\n",
    "        for name, layer in modules:\n",
    "            # If the layer is in our list\n",
    "            if name in layers_to_hook:\n",
    "                # Initializes the corresponding key in the dictionary\n",
    "                self.visualization[name] = None\n",
    "                # Register the forward hook and keep the handle in another dict\n",
    "                self.handles[name] = layer.register_forward_hook(hook_fn)\n",
    "\n",
    "    def remove_hooks(self):\n",
    "        # Loops through all hooks and removes them\n",
    "        for handle in self.handles.values():\n",
    "            handle.remove()\n",
    "        # Clear the dict, as all hooks have been removed\n",
    "        self.handles = {}\n",
    "\n",
    "    def visualize_outputs(self, layers, n_images=10, y=None, yhat=None):\n",
    "        layers = filter(lambda l: l in self.visualization.keys(), layers)\n",
    "        layers = list(layers)\n",
    "        shapes = [self.visualization[layer].shape for layer in layers]\n",
    "        n_rows = [shape[1] if len(shape) == 4 else 1\n",
    "                  for shape in shapes]\n",
    "        total_rows = np.sum(n_rows)\n",
    "\n",
    "        fig, axes = plt.subplots(total_rows, n_images,\n",
    "                                figsize=(1.5*n_images, 1.5*total_rows))\n",
    "        axes = np.atleast_2d(axes).reshape(total_rows, n_images)\n",
    "\n",
    "        # Loops through the layers, one layer per row of subplots\n",
    "        row = 0\n",
    "        for i, layer in enumerate(layers):\n",
    "            start_row = row\n",
    "            # Takes the produced feature maps for that layer\n",
    "            output = self.visualization[layer]\n",
    "\n",
    "            is_vector = len(output.shape) == 2\n",
    "\n",
    "            for j in range(n_rows[i]):\n",
    "                Architecture._visualize_tensors(\n",
    "                    axes[row, :],\n",
    "                    output if is_vector else output[:, j].squeeze(),\n",
    "                    y,\n",
    "                    yhat,\n",
    "                    layer_name=layers[i] \\\n",
    "                              if is_vector \\\n",
    "                              else f'{layers[i]}\\nfil#{row-start_row}',\n",
    "                    title='Image' if (row == 0) else None\n",
    "                )\n",
    "                row += 1\n",
    "\n",
    "        for ax in axes.flat:\n",
    "            ax.label_outer()\n",
    "\n",
    "        plt.tight_layout()\n",
    "        return fig\n",
    "\n",
    "    def correct(self, x, y, threshold=.5):\n",
    "        self.model.eval()\n",
    "        yhat = self.model(x.to(self.device))\n",
    "        y = y.to(self.device)\n",
    "        self.model.train()\n",
    "\n",
    "        # We get the size of the batch and the number of classes\n",
    "        # (only 1, if it is binary)\n",
    "        n_samples, n_dims = yhat.shape\n",
    "        if n_dims > 1:\n",
    "            # In a multiclass classification, the biggest logit\n",
    "            # always wins, so we don't bother getting probabilities\n",
    "\n",
    "            # This is PyTorch's version of argmax,\n",
    "            # but it returns a tuple: (max value, index of max value)\n",
    "            _, predicted = torch.max(yhat, 1)\n",
    "        else:\n",
    "            n_dims += 1\n",
    "            # In binary classification, we NEED to check if the\n",
    "            # last layer is a sigmoid (and then it produces probs)\n",
    "            if isinstance(self.model, nn.Sequential) and \\\n",
    "              isinstance(self.model[-1], nn.Sigmoid):\n",
    "                predicted = (yhat > threshold).long()\n",
    "            # or something else (logits), which we need to convert\n",
    "            # using a sigmoid\n",
    "            else:\n",
    "                predicted = (F.sigmoid(yhat) > threshold).long()\n",
    "\n",
    "        # How many samples got classified correctly for each class\n",
    "        result = []\n",
    "        for c in range(n_dims):\n",
    "            n_class = (y == c).sum().item()\n",
    "            n_correct = (predicted[y == c] == c).sum().item()\n",
    "            result.append((n_correct, n_class))\n",
    "        return torch.tensor(result)\n",
    "\n",
    "\n",
    "    @staticmethod\n",
    "    def loader_apply(loader, func, reduce='sum'):\n",
    "        results = [func(x, y) for i, (x, y) in enumerate(loader)]\n",
    "        results = torch.stack(results, axis=0)\n",
    "\n",
    "        if reduce == 'sum':\n",
    "            results = results.sum(axis=0)\n",
    "        elif reduce == 'mean':\n",
    "            results = results.float().mean(axis=0)\n",
    "\n",
    "        return results\n",
    "\n",
    "    @staticmethod\n",
    "    def statistics_per_channel(images, labels):\n",
    "        # NCHW\n",
    "        n_samples, n_channels, n_height, n_weight = images.size()\n",
    "        # Flatten HW into a single dimension\n",
    "        flatten_per_channel = images.reshape(n_samples, n_channels, -1)\n",
    "\n",
    "        # Computes statistics of each image per channel\n",
    "        # Average pixel value per channel\n",
    "        # (n_samples, n_channels)\n",
    "        means = flatten_per_channel.mean(axis=2)\n",
    "        # Standard deviation of pixel values per channel\n",
    "        # (n_samples, n_channels)\n",
    "        stds = flatten_per_channel.std(axis=2)\n",
    "\n",
    "        # Adds up statistics of all images in a mini-batch\n",
    "        # (1, n_channels)\n",
    "        sum_means = means.sum(axis=0)\n",
    "        sum_stds = stds.sum(axis=0)\n",
    "        # Makes a tensor of shape (1, n_channels)\n",
    "        # with the number of samples in the mini-batch\n",
    "        n_samples = torch.tensor([n_samples]*n_channels).float()\n",
    "\n",
    "        # Stack the three tensors on top of one another\n",
    "        # (3, n_channels)\n",
    "        return torch.stack([n_samples, sum_means, sum_stds], axis=0)\n",
    "\n",
    "    @staticmethod\n",
    "    def make_normalizer(loader):\n",
    "        total_samples, total_means, total_stds = Architecture.loader_apply(loader, Architecture.statistics_per_channel)\n",
    "        norm_mean = total_means / total_samples\n",
    "        norm_std = total_stds / total_samples\n",
    "        return Normalize(mean=norm_mean, std=norm_std)\n",
    "\n",
    "    def lr_range_test(self, data_loader, end_lr, num_iter=100, step_mode='exp', alpha=0.05, ax=None):\n",
    "        # Since the test updates both model and optimizer we need to store\n",
    "        # their initial states to restore them in the end\n",
    "        previous_states = {'model': deepcopy(self.model.state_dict()),\n",
    "                          'optimizer': deepcopy(self.optimizer.state_dict())}\n",
    "        # Retrieves the learning rate set in the optimizer\n",
    "        start_lr = self.optimizer.state_dict()['param_groups'][0]['lr']\n",
    "\n",
    "        # Builds a custom function and corresponding scheduler\n",
    "        lr_fn = make_lr_fn(start_lr, end_lr, num_iter)\n",
    "        scheduler = LambdaLR(self.optimizer, lr_lambda=lr_fn)\n",
    "\n",
    "        # Variables for tracking results and iterations\n",
    "        tracking = {'loss': [], 'lr': []}\n",
    "        iteration = 0\n",
    "\n",
    "        # If there are more iterations than mini-batches in the data loader,\n",
    "        # it will have to loop over it more than once\n",
    "        while (iteration < num_iter):\n",
    "            # That's the typical mini-batch inner loop\n",
    "            for x_batch, y_batch in data_loader:\n",
    "                x_batch = x_batch.to(self.device)\n",
    "                y_batch = y_batch.to(self.device)\n",
    "                # Step 1\n",
    "                yhat = self.model(x_batch)\n",
    "                # Step 2\n",
    "                loss = self.loss_fn(yhat, y_batch)\n",
    "                # Step 3\n",
    "                loss.backward()\n",
    "\n",
    "                # Here we keep track of the losses (smoothed)\n",
    "                # and the learning rates\n",
    "                tracking['lr'].append(scheduler.get_last_lr()[0])\n",
    "                if iteration == 0:\n",
    "                    tracking['loss'].append(loss.item())\n",
    "                else:\n",
    "                    prev_loss = tracking['loss'][-1]\n",
    "                    smoothed_loss = alpha * loss.item() + (1-alpha) * prev_loss\n",
    "                    tracking['loss'].append(smoothed_loss)\n",
    "\n",
    "                iteration += 1\n",
    "                # Number of iterations reached\n",
    "                if iteration == num_iter:\n",
    "                    break\n",
    "\n",
    "                # Step 4\n",
    "                self.optimizer.step()\n",
    "                scheduler.step()\n",
    "                self.optimizer.zero_grad()\n",
    "\n",
    "        # Restores the original states\n",
    "        self.optimizer.load_state_dict(previous_states['optimizer'])\n",
    "        self.model.load_state_dict(previous_states['model'])\n",
    "\n",
    "        if ax is None:\n",
    "            fig, ax = plt.subplots(1, 1, figsize=(6, 4))\n",
    "        else:\n",
    "            fig = ax.get_figure()\n",
    "        ax.plot(tracking['lr'], tracking['loss'])\n",
    "        if step_mode == 'exp':\n",
    "            ax.set_xscale('log')\n",
    "        ax.set_xlabel('Learning Rate')\n",
    "        ax.set_ylabel('Loss')\n",
    "        fig.tight_layout()\n",
    "        return tracking, fig\n",
    "\n",
    "    def set_optimizer(self, optimizer):\n",
    "        self.optimizer = optimizer"
   ]
  },
  {
   "cell_type": "code",
   "execution_count": null,
   "metadata": {},
   "outputs": [],
   "source": [
    "class CNN2(nn.Module):\n",
    "    def __init__(self, n_feature, p=0.0):\n",
    "        super(CNN2, self).__init__()\n",
    "        self.n_feature = n_feature\n",
    "        self.p = p\n",
    "        # Creates the convolution layers\n",
    "        self.conv1 = nn.Conv2d(in_channels=3,\n",
    "                               out_channels=n_feature,\n",
    "                               kernel_size=3)\n",
    "        self.conv2 = nn.Conv2d(in_channels=n_feature,\n",
    "                               out_channels=n_feature,\n",
    "                               kernel_size=3)\n",
    "        # Creates the linear layers\n",
    "        # Where do this 5 * 5 come from?! Check it below\n",
    "        self.fc1 = nn.Linear(n_feature * 5 * 5, 50)\n",
    "        self.fc2 = nn.Linear(50, 4)  # Changed from 3 to 4 classes\n",
    "        # Creates dropout layers\n",
    "        self.drop = nn.Dropout(self.p)\n",
    "\n",
    "    def featurizer(self, x):\n",
    "        # Featurizer\n",
    "        # First convolutional block\n",
    "        # 3@28x28 -> n_feature@26x26 -> n_feature@13x13\n",
    "        x = self.conv1(x)\n",
    "        x = F.relu(x)\n",
    "        x = F.max_pool2d(x, kernel_size=2)\n",
    "        # Second convolutional block\n",
    "        # n_feature * @13x13 -> n_feature@11x11 -> n_feature@5x5\n",
    "        x = self.conv2(x)\n",
    "        x = F.relu(x)\n",
    "        x = F.max_pool2d(x, kernel_size=2)\n",
    "        # Input dimension (n_feature@5x5)\n",
    "        # Output dimension (n_feature * 5 * 5)\n",
    "        x = nn.Flatten()(x)\n",
    "        return x\n",
    "\n",
    "    def classifier(self, x):\n",
    "        # Classifier\n",
    "        # Hidden Layer\n",
    "        # Input dimension (n_feature * 5 * 5)\n",
    "        # Output dimension (50)\n",
    "        if self.p > 0:\n",
    "            x = self.drop(x)\n",
    "        x = self.fc1(x)\n",
    "        x = F.relu(x)\n",
    "        # Output Layer\n",
    "        # Input dimension (50)\n",
    "        # Output dimension (4)\n",
    "        if self.p > 0:\n",
    "            x = self.drop(x)\n",
    "        x = self.fc2(x)\n",
    "        return x\n",
    "\n",
    "    def forward(self, x):\n",
    "        x = self.featurizer(x)\n",
    "        x = self.classifier(x)\n",
    "        return x"
   ]
  },
  {
   "cell_type": "markdown",
   "metadata": {
    "id": "cOaHaWUUNdJq"
   },
   "source": [
    "# Import Data folder\n",
    "\n",
    "dataset_iracing/\n",
    "\n",
    " - reta\n",
    " - freada_apex\n",
    " - saida_curva\n",
    " - freada"
   ]
  },
  {
   "cell_type": "markdown",
   "metadata": {
    "id": "lkvSlyu3PfdW"
   },
   "source": [
    "# Visualize first image"
   ]
  },
  {
   "cell_type": "code",
   "execution_count": null,
   "metadata": {
    "id": "L1UXoe6hPiFD"
   },
   "outputs": [],
   "source": [
    "def figure1(folder='train_dataset_iracing'):\n",
    "    cornering = Image.open(f'{folder}/curva_apex/curva (1).jpg')\n",
    "    braking = Image.open(f'{folder}/freada/freada (2).jpg')\n",
    "    accelerating = Image.open(f'{folder}/saida_curva/saida_curva (1).jpg')\n",
    "    straight = Image.open(f'{folder}/reta/reta (1).jpg')\n",
    "\n",
    "    images = [cornering, braking, accelerating, straight]\n",
    "    titles = ['cornering', 'braking', 'accelerating', 'straight']\n",
    "\n",
    "    fig, axs = plt.subplots(1, 4, figsize=(12, 5))\n",
    "    for ax, image, title in zip(axs, images, titles):\n",
    "        ax.imshow(image)\n",
    "        ax.set_xticks([])\n",
    "        ax.set_yticks([])\n",
    "        ax.set_title(title)\n",
    "\n",
    "    return fig"
   ]
  },
  {
   "cell_type": "code",
   "execution_count": null,
   "metadata": {
    "colab": {
     "base_uri": "https://localhost:8080/",
     "height": 194
    },
    "id": "y5ATw-ZBQolE",
    "outputId": "2c41c0ce-34bf-411d-dbc6-fb44d89e2791"
   },
   "outputs": [],
   "source": [
    "fig = figure1()"
   ]
  },
  {
   "cell_type": "markdown",
   "metadata": {
    "id": "meKydWgnRa8c"
   },
   "source": [
    "# Data Preparation"
   ]
  },
  {
   "cell_type": "markdown",
   "metadata": {
    "id": "11-Xx2mnRj8N"
   },
   "source": [
    "## ImageFolder"
   ]
  },
  {
   "cell_type": "code",
   "execution_count": null,
   "metadata": {
    "id": "U2QEglzSUskY"
   },
   "outputs": [],
   "source": [
    "# Compose a sequence of preprocessing transforms\n",
    "# 1) Resize images to 28×28 pixels\n",
    "# 2) Ensure output is a PIL/torchvision Image (dropping any alpha channel)\n",
    "# 3) Convert pixel values to float32 and scale from [0–255] to [0.0–1.0]\n",
    "temp_transform = Compose([\n",
    "    Resize([28,28]),                        # Resize each image to 28×28\n",
    "    ToImage(),                         # Convert tensor back to PIL Image (enforces RGB)\n",
    "    ToDtype(torch.float32, scale=True) # Cast to float32 and normalize pixel range\n",
    "])\n",
    "\n",
    "# Create an ImageFolder dataset from the 'rps' directory\n",
    "# Images are grouped by subfolder name as class labels, and each image is transformed\n",
    "temp_dataset = ImageFolder(\n",
    "    root='train_dataset_iracing',\n",
    "    transform=temp_transform          # Apply the preprocessing pipeline to every image\n",
    ")"
   ]
  },
  {
   "cell_type": "code",
   "execution_count": null,
   "metadata": {
    "colab": {
     "base_uri": "https://localhost:8080/"
    },
    "id": "lZ6u3itMR8Ml",
    "outputId": "545c96a8-0b6c-49f4-8ac9-c168e0ca5690"
   },
   "outputs": [],
   "source": [
    "# the second element of this tuple is the label\n",
    "temp_dataset[0][0].shape, temp_dataset[0][1]"
   ]
  },
  {
   "cell_type": "code",
   "execution_count": null,
   "metadata": {
    "colab": {
     "base_uri": "https://localhost:8080/"
    },
    "id": "r-9jjm5JSGed",
    "outputId": "c8521cfd-89e8-4a3e-e906-63f367f8a66b"
   },
   "outputs": [],
   "source": [
    "# Get total number of samples in the dataset\n",
    "dataset_size = len(temp_dataset)\n",
    "print(f\"Dataset size: {dataset_size} images\")\n",
    "\n",
    "# Get number of classes\n",
    "num_classes = len(temp_dataset.classes)\n",
    "print(f\"Number of classes: {num_classes}\")"
   ]
  },
  {
   "cell_type": "markdown",
   "metadata": {
    "id": "HLQdRHeC_lv7"
   },
   "source": [
    "## Standardization\n",
    "\n",
    "To standardize data points, we need to learn their **mean** and **standard** deviation first.\n",
    "\n",
    "To compute these, we need to **load** the data."
   ]
  },
  {
   "cell_type": "code",
   "execution_count": null,
   "metadata": {
    "id": "Pjj2e3DLfSZ5"
   },
   "outputs": [],
   "source": [
    "temp_loader = DataLoader(temp_dataset, batch_size=16)"
   ]
  },
  {
   "cell_type": "code",
   "execution_count": null,
   "metadata": {
    "colab": {
     "base_uri": "https://localhost:8080/"
    },
    "id": "4VuE0djcfRNk",
    "outputId": "b659c6d2-d349-48a7-9d5e-176cd78a2179"
   },
   "outputs": [],
   "source": [
    "# Each column represents a channel\n",
    "# first row is the number of data points\n",
    "# second row is the the sum of mean values\n",
    "# third row is the sum of standard deviations\n",
    "first_images, first_labels = next(iter(temp_loader))\n",
    "Architecture.statistics_per_channel(first_images, first_labels)"
   ]
  },
  {
   "cell_type": "code",
   "execution_count": null,
   "metadata": {
    "colab": {
     "base_uri": "https://localhost:8080/"
    },
    "id": "eUT_zNdw_scW",
    "outputId": "0e8fdc0b-ca8b-4869-d7f0-865306962c37"
   },
   "outputs": [],
   "source": [
    "# we can compute the average mean value and the average standard deviation, per channel.\n",
    "# make_normalizer() is a method that takes a data loader and returns an instance of the Normalize() transform\n",
    "normalizer = Architecture.make_normalizer(temp_loader)\n",
    "normalizer"
   ]
  },
  {
   "cell_type": "code",
   "execution_count": null,
   "metadata": {},
   "outputs": [],
   "source": [
    "# Save normalization values as normalize2 (as tensors)\n",
    "normalizer = Normalize(\n",
    "    mean=torch.tensor([0.2628, 0.2793, 0.2886]),\n",
    "    std=torch.tensor([0.2412, 0.2640, 0.2837]),\n",
    "    inplace=False\n",
    ")\n",
    "normalizer  "
   ]
  },
  {
   "cell_type": "code",
   "execution_count": null,
   "metadata": {
    "id": "9A_jux12RpOA"
   },
   "outputs": [],
   "source": [
    "# Define a pipeline of image transformations:\n",
    "# 1) Resize each image to 28×28 pixels\n",
    "# 2) Ensure the output is a PIL/torchvision image (dropping any alpha channel)\n",
    "# 3) Cast pixels to float32 and scale from [0–255] to [0.0–1.0]\n",
    "# 4) Apply the user-defined normalization (e.g., mean/std normalization)\n",
    "composer = Compose([\n",
    "    Resize([28,28]),                         # Resize to 28×28\n",
    "    ToImage(),                          # Convert to PIL Image in RGB\n",
    "    ToDtype(torch.float32, scale=True), # Cast to float32 and normalize to [0,1]\n",
    "    normalizer                          # Apply custom normalization transform\n",
    "])\n",
    "\n",
    "# Instantiate training and validation datasets from folders:\n",
    "# - 'train_dataset_iracing' contains subfolders per class for training\n",
    "# - 'test_dataset_iracing' likewise for validation\n",
    "train_data = ImageFolder(root='train_dataset_iracing', transform=composer)\n",
    "val_data   = ImageFolder(root='test_dataset_iracing', transform=composer)\n",
    "\n",
    "# Wrap datasets in DataLoaders for batching and shuffling:\n",
    "# - batch_size=16 yields mini-batches of 16 images\n",
    "# - shuffle=True randomizes training order each epoch\n",
    "train_loader = DataLoader(train_data, batch_size=16, shuffle=True)\n",
    "val_loader   = DataLoader(val_data,   batch_size=16)  # no shuffle for validation"
   ]
  },
  {
   "cell_type": "code",
   "execution_count": null,
   "metadata": {
    "id": "Nf34Libu0nSW"
   },
   "outputs": [],
   "source": [
    "def figure2(first_images, first_labels):\n",
    "    fig, axs = plt.subplots(1, 6, figsize=(12, 4))\n",
    "    titles = ['cornering', 'braking', 'accelerating', 'straight']\n",
    "    for i in range(6):\n",
    "        image, label = ToPILImage()(first_images[i]), first_labels[i]\n",
    "        axs[i].imshow(image)\n",
    "        axs[i].set_xticks([])\n",
    "        axs[i].set_yticks([])\n",
    "        axs[i].set_title(titles[label], fontsize=12)\n",
    "    fig.tight_layout()\n",
    "    return fig"
   ]
  },
  {
   "cell_type": "code",
   "execution_count": null,
   "metadata": {
    "colab": {
     "base_uri": "https://localhost:8080/",
     "height": 150
    },
    "id": "UNrfKQsr0pQN",
    "outputId": "3ba38f4d-5f0e-447d-adc8-7fc9bd757e5d"
   },
   "outputs": [],
   "source": [
    "torch.manual_seed(88)\n",
    "first_images, first_labels = next(iter(train_loader))\n",
    "\n",
    "fig = figure2(first_images, first_labels)"
   ]
  },
  {
   "cell_type": "markdown",
   "metadata": {},
   "source": [
    "# 1- Base Model\n",
    "\n",
    "* n_features=5\n",
    "* dropout probability p=0.3\n",
    "* learn rate = 3e-4"
   ]
  },
  {
   "cell_type": "markdown",
   "metadata": {},
   "source": [
    "# Model Configuration\n"
   ]
  },
  {
   "cell_type": "code",
   "execution_count": null,
   "metadata": {},
   "outputs": [],
   "source": [
    "torch.manual_seed(13)\n",
    "\n",
    "# Model/Architecture\n",
    "model_cnn2 = CNN2(n_feature=5, p=0.3)\n",
    "\n",
    "# Loss function\n",
    "multi_loss_fn = nn.CrossEntropyLoss(reduction='mean')\n",
    "\n",
    "# Optimizer\n",
    "optimizer_cnn2 = optim.Adam(model_cnn2.parameters(), lr=3e-4)"
   ]
  },
  {
   "cell_type": "markdown",
   "metadata": {},
   "source": [
    "# Model training"
   ]
  },
  {
   "cell_type": "code",
   "execution_count": null,
   "metadata": {},
   "outputs": [],
   "source": [
    "arch_cnn2 = Architecture(model_cnn2,\n",
    "                        multi_loss_fn,\n",
    "                        optimizer_cnn2)\n",
    "arch_cnn2.set_loaders(train_loader, val_loader)\n",
    "arch_cnn2.train(8)"
   ]
  },
  {
   "cell_type": "code",
   "execution_count": null,
   "metadata": {},
   "outputs": [],
   "source": [
    "#Save the model\n",
    "torch.save(model_cnn2.state_dict(), 'base_model_cnn2.pth')\n",
    "fig = arch_cnn2.plot_losses()"
   ]
  },
  {
   "cell_type": "markdown",
   "metadata": {},
   "source": [
    "It took 54 minutes to go over 8 epochs - model with 4 classes"
   ]
  },
  {
   "cell_type": "markdown",
   "metadata": {},
   "source": [
    "# Visualizing Filters"
   ]
  },
  {
   "cell_type": "code",
   "execution_count": null,
   "metadata": {},
   "outputs": [],
   "source": [
    "print(model_cnn2.conv1.weight.shape)\n",
    "fig = arch_cnn2.visualize_filters('conv1')"
   ]
  },
  {
   "cell_type": "code",
   "execution_count": null,
   "metadata": {},
   "outputs": [],
   "source": [
    "print(model_cnn2.conv2.weight.shape)\n",
    "fig = arch_cnn2.visualize_filters('conv2')"
   ]
  },
  {
   "cell_type": "code",
   "execution_count": null,
   "metadata": {},
   "outputs": [],
   "source": [
    "featurizer_layers = ['conv1','conv2', 'relu1', 'maxp1','maxp2', 'flatten']\n",
    "classifier_layers = ['fc1', 'relu2', 'fc2']\n",
    "\n",
    "arch_cnn2.attach_hooks(\n",
    "  layers_to_hook=featurizer_layers + classifier_layers\n",
    ")\n",
    "\n",
    "images_batch, labels_batch = next(iter(val_loader))\n",
    "logits = arch_cnn2.predict(images_batch)\n",
    "predicted = np.argmax(logits, 1)\n",
    "\n",
    "arch_cnn2.remove_hooks()"
   ]
  },
  {
   "cell_type": "code",
   "execution_count": null,
   "metadata": {},
   "outputs": [],
   "source": [
    "with plt.style.context('seaborn-v0_8-whitegrid'):\n",
    "    fig_maps1 = arch_cnn2.visualize_outputs(featurizer_layers)\n",
    "    fig_maps2 = arch_cnn2.visualize_outputs(\n",
    "                  classifier_layers, y=labels_batch, yhat=predicted\n",
    "                )\n"
   ]
  },
  {
   "cell_type": "markdown",
   "metadata": {},
   "source": [
    "# Accuracy"
   ]
  },
  {
   "cell_type": "code",
   "execution_count": null,
   "metadata": {},
   "outputs": [],
   "source": [
    "Architecture.loader_apply(val_loader,\n",
    "                          arch_cnn2.correct)"
   ]
  },
  {
   "cell_type": "code",
   "execution_count": null,
   "metadata": {},
   "outputs": [],
   "source": [
    "(lambda x: x[0].item() / x[1].item())(Architecture.loader_apply(val_loader,\n",
    "                                                                arch_cnn2.correct).sum(axis=0))"
   ]
  },
  {
   "cell_type": "code",
   "execution_count": null,
   "metadata": {},
   "outputs": [],
   "source": [
    "from sklearn.metrics import confusion_matrix, ConfusionMatrixDisplay\n",
    "\n",
    "# Get all predictions and true labels from the validation set\n",
    "all_preds = []\n",
    "all_labels = []\n",
    "\n",
    "arch_cnn2.model.eval()\n",
    "with torch.no_grad():\n",
    "    for images, labels in val_loader:\n",
    "        logits = arch_cnn2.predict(images)\n",
    "        preds = np.argmax(logits, axis=1)\n",
    "        all_preds.extend(preds)\n",
    "        all_labels.extend(labels.cpu().numpy())\n"
   ]
  },
  {
   "cell_type": "code",
   "execution_count": null,
   "metadata": {},
   "outputs": [],
   "source": [
    "# Plot confusion matrix using seaborn heatmap\n",
    "cm = confusion_matrix(all_labels, all_preds)\n",
    "plt.figure(figsize=(7, 6))\n",
    "sns.heatmap(cm, annot=True, fmt='d', cmap='Blues', xticklabels=val_data.classes, yticklabels=val_data.classes)\n",
    "plt.xlabel('Predicted Label')\n",
    "plt.ylabel('True Label')\n",
    "plt.title('Confusion Matrix')\n",
    "plt.tight_layout()\n",
    "plt.show()"
   ]
  },
  {
   "cell_type": "markdown",
   "metadata": {},
   "source": [
    "# Second Task - base model + n_features change\n",
    "\n",
    "In this task we will analyze model output varying two times:\n",
    "\n",
    "1. n_feature = 3\n",
    "1. n_feature = 10\n",
    "\n",
    "we will keep dropout probability p=0.3 and lear rate = 3e-4\n"
   ]
  },
  {
   "cell_type": "markdown",
   "metadata": {},
   "source": [
    "## Model Training"
   ]
  },
  {
   "cell_type": "code",
   "execution_count": null,
   "metadata": {},
   "outputs": [],
   "source": [
    "torch.manual_seed(13)\n",
    "\n",
    "# Model/Architecture\n",
    "model2_cnn2 = CNN2(n_feature=3, p=0.3) #changed n_feature from 5 to 3\n",
    "\n",
    "# Loss function\n",
    "multi_loss_fn = nn.CrossEntropyLoss(reduction='mean')\n",
    "\n",
    "# Optimizer\n",
    "optimizer2_cnn2 = optim.Adam(model2_cnn2.parameters(), lr=3e-4)"
   ]
  },
  {
   "cell_type": "code",
   "execution_count": null,
   "metadata": {},
   "outputs": [],
   "source": [
    "arch2_cnn2 = Architecture(model2_cnn2,\n",
    "                        multi_loss_fn,\n",
    "                        optimizer2_cnn2)\n",
    "arch2_cnn2.set_loaders(train_loader, val_loader)\n",
    "arch2_cnn2.train(8)"
   ]
  },
  {
   "cell_type": "code",
   "execution_count": null,
   "metadata": {},
   "outputs": [],
   "source": [
    "torch.save(model2_cnn2.state_dict(), 'model2_cnn2.pth')\n",
    "\n",
    "fig = arch2_cnn2.plot_losses()"
   ]
  },
  {
   "cell_type": "markdown",
   "metadata": {},
   "source": [
    "model 2 took 52 minutes to train its model in 8 epochs"
   ]
  },
  {
   "cell_type": "markdown",
   "metadata": {},
   "source": [
    "## Model 2 - Visualize layers"
   ]
  },
  {
   "cell_type": "code",
   "execution_count": null,
   "metadata": {},
   "outputs": [],
   "source": [
    "featurizer_layers = ['conv1','conv2', 'relu1', 'maxp1','maxp2', 'flatten']\n",
    "classifier_layers = ['fc1', 'relu2', 'fc2']\n",
    "\n",
    "arch2_cnn2.attach_hooks(\n",
    "  layers_to_hook=featurizer_layers + classifier_layers\n",
    ")\n",
    "\n",
    "images_batch, labels_batch = next(iter(val_loader))\n",
    "logits = arch2_cnn2.predict(images_batch)\n",
    "predicted = np.argmax(logits, 1)\n",
    "\n",
    "arch2_cnn2.remove_hooks()"
   ]
  },
  {
   "cell_type": "code",
   "execution_count": null,
   "metadata": {},
   "outputs": [],
   "source": [
    "with plt.style.context('seaborn-v0_8-whitegrid'):\n",
    "    fig_maps1 = arch2_cnn2.visualize_outputs(featurizer_layers)\n",
    "    fig_maps2 = arch2_cnn2.visualize_outputs(\n",
    "                  classifier_layers, y=labels_batch, yhat=predicted\n",
    "                )"
   ]
  },
  {
   "cell_type": "markdown",
   "metadata": {},
   "source": [
    "## Model 2 Accuracy"
   ]
  },
  {
   "cell_type": "code",
   "execution_count": null,
   "metadata": {},
   "outputs": [],
   "source": [
    "correct_counts = Architecture.loader_apply(val_loader, arch2_cnn2.correct)\n",
    "correct_counts"
   ]
  },
  {
   "cell_type": "markdown",
   "metadata": {},
   "source": [
    "tensor([[147, 264],\n",
    "        [ 20, 196],\n",
    "        [695, 699],\n",
    "        [ 32, 254]]"
   ]
  },
  {
   "cell_type": "code",
   "execution_count": null,
   "metadata": {},
   "outputs": [],
   "source": [
    "\n",
    "# Get all predictions and true labels from the validation set\n",
    "all_preds2 = []\n",
    "all_labels2 = []\n",
    "\n",
    "arch2_cnn2.model.eval()\n",
    "with torch.no_grad():\n",
    "    for images, labels in val_loader:\n",
    "        logits = arch2_cnn2.predict(images)\n",
    "        preds = np.argmax(logits, axis=1)\n",
    "        all_preds2.extend(preds)\n",
    "        all_labels2.extend(labels.cpu().numpy())"
   ]
  },
  {
   "cell_type": "code",
   "execution_count": null,
   "metadata": {},
   "outputs": [],
   "source": [
    "cm2 = confusion_matrix(all_labels2, all_preds2)\n",
    "plt.figure(figsize=(7, 6))\n",
    "sns.heatmap(cm2, annot=True, fmt='d', cmap='Blues', xticklabels=val_data.classes, yticklabels=val_data.classes)\n",
    "plt.xlabel('Predicted Label')\n",
    "plt.ylabel('True Label')\n",
    "plt.title('Model 2 Confusion Matrix')\n",
    "plt.tight_layout()\n",
    "plt.show()"
   ]
  },
  {
   "cell_type": "markdown",
   "metadata": {},
   "source": [
    "## Model 3 - n_features = 10"
   ]
  },
  {
   "cell_type": "code",
   "execution_count": null,
   "metadata": {},
   "outputs": [],
   "source": [
    "torch.manual_seed(13)\n",
    "\n",
    "# Model/Architecture\n",
    "model3_cnn2 = CNN2(n_feature=10, p=0.3) #changed n_feature from 5 to 10\n",
    "\n",
    "# Loss function\n",
    "multi_loss_fn = nn.CrossEntropyLoss(reduction='mean')\n",
    "\n",
    "# Optimizer\n",
    "optimizer3_cnn2 = optim.Adam(model3_cnn2.parameters(), lr=3e-4)"
   ]
  },
  {
   "cell_type": "code",
   "execution_count": null,
   "metadata": {},
   "outputs": [],
   "source": [
    "arch3_cnn2 = Architecture(model3_cnn2,\n",
    "                        multi_loss_fn,\n",
    "                        optimizer3_cnn2)\n",
    "arch3_cnn2.set_loaders(train_loader, val_loader)\n",
    "arch3_cnn2.train(8)"
   ]
  },
  {
   "cell_type": "markdown",
   "metadata": {},
   "source": [
    "Model 3 took 52 minutes to train 8 epochs"
   ]
  },
  {
   "cell_type": "markdown",
   "metadata": {},
   "source": [
    "## Model 3 - Visualize layers"
   ]
  },
  {
   "cell_type": "code",
   "execution_count": null,
   "metadata": {},
   "outputs": [],
   "source": [
    "featurizer_layers = ['conv1','conv2', 'relu1', 'maxp1','maxp2', 'flatten']\n",
    "classifier_layers = ['fc1', 'relu2', 'fc2']\n",
    "\n",
    "arch3_cnn2.attach_hooks(\n",
    "  layers_to_hook=featurizer_layers + classifier_layers\n",
    ")\n",
    "\n",
    "images_batch, labels_batch = next(iter(val_loader))\n",
    "logits = arch3_cnn2.predict(images_batch)\n",
    "predicted = np.argmax(logits, 1)\n",
    "\n",
    "arch3_cnn2.remove_hooks()"
   ]
  },
  {
   "cell_type": "code",
   "execution_count": null,
   "metadata": {},
   "outputs": [],
   "source": [
    "with plt.style.context('seaborn-v0_8-whitegrid'):\n",
    "    fig_maps1 = arch3_cnn2.visualize_outputs(featurizer_layers)\n",
    "    fig_maps2 = arch3_cnn2.visualize_outputs(\n",
    "                  classifier_layers, y=labels_batch, yhat=predicted\n",
    "                )"
   ]
  },
  {
   "cell_type": "markdown",
   "metadata": {},
   "source": [
    "## Model 3 Accuracy"
   ]
  },
  {
   "cell_type": "code",
   "execution_count": null,
   "metadata": {},
   "outputs": [],
   "source": [
    "torch.save(model3_cnn2.state_dict(), 'model3_cnn2.pth')\n",
    "\n",
    "fig = arch3_cnn2.plot_losses()"
   ]
  },
  {
   "cell_type": "code",
   "execution_count": null,
   "metadata": {},
   "outputs": [],
   "source": [
    "correct_counts3 = Architecture.loader_apply(val_loader, arch3_cnn2.correct)\n",
    "correct_counts3"
   ]
  },
  {
   "cell_type": "markdown",
   "metadata": {},
   "source": [
    "tensor([[159, 264],\n",
    "        [ 68, 196],\n",
    "        [653, 699],\n",
    "        [ 50, 254]])"
   ]
  },
  {
   "cell_type": "code",
   "execution_count": null,
   "metadata": {},
   "outputs": [],
   "source": [
    "# Get all predictions and true labels from the validation set\n",
    "all_preds3 = []\n",
    "all_labels3 = []\n",
    "\n",
    "arch3_cnn2.model.eval()\n",
    "with torch.no_grad():\n",
    "    for images, labels in val_loader:\n",
    "        logits = arch3_cnn2.predict(images)\n",
    "        preds = np.argmax(logits, axis=1)\n",
    "        all_preds3.extend(preds)\n",
    "        all_labels3.extend(labels.cpu().numpy())"
   ]
  },
  {
   "cell_type": "code",
   "execution_count": null,
   "metadata": {},
   "outputs": [],
   "source": [
    "cm3 = confusion_matrix(all_labels3, all_preds3)\n",
    "plt.figure(figsize=(7, 6))\n",
    "sns.heatmap(cm3, annot=True, fmt='d', cmap='Blues', xticklabels=val_data.classes, yticklabels=val_data.classes)\n",
    "plt.xlabel('Predicted Label')\n",
    "plt.ylabel('True Label')\n",
    "plt.title('Confusion Matrix')\n",
    "plt.tight_layout()\n",
    "plt.show()"
   ]
  },
  {
   "cell_type": "markdown",
   "metadata": {},
   "source": [
    "# Retraining the models with shuffle = false\n",
    "\n",
    "Let's investigate the models outputs when not shuffling the dataloader"
   ]
  },
  {
   "cell_type": "code",
   "execution_count": null,
   "metadata": {},
   "outputs": [],
   "source": [
    "# Define a pipeline of image transformations:\n",
    "# 1) Resize each image to 28×28 pixels\n",
    "# 2) Ensure the output is a PIL/torchvision image (dropping any alpha channel)\n",
    "# 3) Cast pixels to float32 and scale from [0–255] to [0.0–1.0]\n",
    "# 4) Apply the user-defined normalization (e.g., mean/std normalization)\n",
    "composer = Compose([\n",
    "    Resize([28,28]),                         # Resize to 28×28\n",
    "    ToImage(),                          # Convert to PIL Image in RGB\n",
    "    ToDtype(torch.float32, scale=True), # Cast to float32 and normalize to [0,1]\n",
    "    normalizer                          # Apply custom normalization transform\n",
    "])\n",
    "\n",
    "# Instantiate training and validation datasets from folders:\n",
    "# - 'train_dataset_iracing' contains subfolders per class for training\n",
    "# - 'test_dataset_iracing' likewise for validation\n",
    "train_data = ImageFolder(root='train_dataset_iracing', transform=composer)\n",
    "val_data   = ImageFolder(root='test_dataset_iracing', transform=composer)\n",
    "\n",
    "# Wrap datasets in DataLoaders for batching and shuffling:\n",
    "# - batch_size=16 yields mini-batches of 16 images\n",
    "# - shuffle=True randomizes training order each epoch\n",
    "train_loader_2 = DataLoader(train_data, batch_size=16, shuffle=False)#change shuffle to False for train_loader_2\n",
    "val_loader   = DataLoader(val_data,   batch_size=16)  # no shuffle for validation"
   ]
  },
  {
   "cell_type": "markdown",
   "metadata": {},
   "source": [
    "## Models configuration"
   ]
  },
  {
   "cell_type": "code",
   "execution_count": null,
   "metadata": {},
   "outputs": [],
   "source": [
    "#Model 1\n",
    "torch.manual_seed(13)\n",
    "# Model/Architecture\n",
    "model_cnn2 = CNN2(n_feature=5, p=0.3)\n",
    "# Loss function\n",
    "multi_loss_fn = nn.CrossEntropyLoss(reduction='mean')\n",
    "# Optimizer\n",
    "optimizer_cnn2 = optim.Adam(model_cnn2.parameters(), lr=3e-4)\n",
    "\n",
    "#Model 2\n",
    "# Model/Architecture\n",
    "model2_cnn2 = CNN2(n_feature=3, p=0.3)\n",
    "# Loss function\n",
    "multi_loss_fn = nn.CrossEntropyLoss(reduction='mean')\n",
    "# Optimizer\n",
    "optimizer2_cnn2 = optim.Adam(model2_cnn2.parameters(), lr=3e-4)\n",
    "\n",
    "#Model 3\n",
    "# Model/Architecture\n",
    "model3_cnn2 = CNN2(n_feature=10, p=0.3)\n",
    "# Loss function\n",
    "multi_loss_fn = nn.CrossEntropyLoss(reduction='mean')\n",
    "# Optimizer\n",
    "optimizer3_cnn2 = optim.Adam(model3_cnn2.parameters(), lr=3e-4)"
   ]
  },
  {
   "cell_type": "markdown",
   "metadata": {},
   "source": [
    "## Model train"
   ]
  },
  {
   "cell_type": "code",
   "execution_count": null,
   "metadata": {},
   "outputs": [],
   "source": [
    "#Model 1 Train\n",
    "arch_cnn2 = Architecture(model_cnn2,\n",
    "                        multi_loss_fn,\n",
    "                        optimizer_cnn2)\n",
    "arch_cnn2.set_loaders(train_loader_2, val_loader)\n",
    "arch_cnn2.train(8)"
   ]
  },
  {
   "cell_type": "markdown",
   "metadata": {},
   "source": [
    "it took 50 minutes to train model 1 without shuffling data"
   ]
  },
  {
   "cell_type": "code",
   "execution_count": null,
   "metadata": {},
   "outputs": [],
   "source": [
    "#Model 2 Train\n",
    "arch2_cnn2 = Architecture(model2_cnn2,\n",
    "                        multi_loss_fn,\n",
    "                        optimizer2_cnn2)\n",
    "arch2_cnn2.set_loaders(train_loader_2, val_loader)\n",
    "arch2_cnn2.train(8)"
   ]
  },
  {
   "cell_type": "code",
   "execution_count": null,
   "metadata": {},
   "outputs": [],
   "source": [
    "#Model 3 Train\n",
    "arch3_cnn2 = Architecture(model3_cnn2,\n",
    "                        multi_loss_fn,\n",
    "                        optimizer3_cnn2)\n",
    "arch3_cnn2.set_loaders(train_loader_2, val_loader)\n",
    "arch3_cnn2.train(8)"
   ]
  },
  {
   "cell_type": "markdown",
   "metadata": {},
   "source": [
    "## Model accuracy"
   ]
  },
  {
   "cell_type": "code",
   "execution_count": null,
   "metadata": {},
   "outputs": [],
   "source": [
    "#Model 1 Save\n",
    "torch.save(model_cnn2.state_dict(), 'model_cnn2_noshuffle.pth')\n",
    "\n",
    "fig = arch_cnn2.plot_losses()"
   ]
  },
  {
   "cell_type": "code",
   "execution_count": null,
   "metadata": {},
   "outputs": [],
   "source": [
    "#Model 2 Save\n",
    "torch.save(model2_cnn2.state_dict(), 'model2_cnn2_noshuffle.pth')\n",
    "\n",
    "fig = arch2_cnn2.plot_losses()"
   ]
  },
  {
   "cell_type": "code",
   "execution_count": null,
   "metadata": {},
   "outputs": [],
   "source": [
    "#Model 3 Save\n",
    "torch.save(model3_cnn2.state_dict(), 'model3_cnn2_noshuffle.pth')\n",
    "\n",
    "fig = arch3_cnn2.plot_losses()"
   ]
  },
  {
   "cell_type": "code",
   "execution_count": null,
   "metadata": {},
   "outputs": [],
   "source": [
    "correct_counts = Architecture.loader_apply(val_loader, arch_cnn2.correct)\n",
    "correct_counts"
   ]
  },
  {
   "cell_type": "code",
   "execution_count": null,
   "metadata": {},
   "outputs": [],
   "source": [
    "correct_counts2 = Architecture.loader_apply(val_loader, arch2_cnn2.correct)\n",
    "correct_counts2"
   ]
  },
  {
   "cell_type": "code",
   "execution_count": null,
   "metadata": {},
   "outputs": [],
   "source": [
    "correct_counts3 = Architecture.loader_apply(val_loader, arch3_cnn2.correct)\n",
    "correct_counts3"
   ]
  },
  {
   "cell_type": "code",
   "execution_count": null,
   "metadata": {},
   "outputs": [],
   "source": [
    "# Get all predictions and true labels from the validation set\n",
    "all_preds = []\n",
    "all_labels = []\n",
    "\n",
    "all_preds2 = []\n",
    "all_labels2 = []\n",
    "\n",
    "all_preds3 = []\n",
    "all_labels3 = []\n",
    "\n",
    "arch_cnn2.model.eval()\n",
    "arch2_cnn2.model.eval()\n",
    "arch3_cnn2.model.eval()\n",
    "\n",
    "with torch.no_grad():\n",
    "    for images, labels in val_loader:\n",
    "        logits = arch_cnn2.predict(images)\n",
    "        preds = np.argmax(logits, axis=1)\n",
    "        all_preds.extend(preds)\n",
    "        all_labels.extend(labels.cpu().numpy())\n",
    "\n",
    "with torch.no_grad():\n",
    "    for images, labels in val_loader:\n",
    "        logits = arch2_cnn2.predict(images)\n",
    "        preds = np.argmax(logits, axis=1)\n",
    "        all_preds2.extend(preds)\n",
    "        all_labels2.extend(labels.cpu().numpy())\n",
    "\n",
    "with torch.no_grad():\n",
    "    for images, labels in val_loader:\n",
    "        logits = arch3_cnn2.predict(images)\n",
    "        preds = np.argmax(logits, axis=1)\n",
    "        all_preds3.extend(preds)\n",
    "        all_labels3.extend(labels.cpu().numpy())"
   ]
  },
  {
   "cell_type": "code",
   "execution_count": null,
   "metadata": {},
   "outputs": [],
   "source": [
    "cm = confusion_matrix(all_labels, all_preds)\n",
    "plt.figure(figsize=(7, 6))\n",
    "sns.heatmap(cm, annot=True, fmt='d', cmap='Blues', xticklabels=val_data.classes, yticklabels=val_data.classes)\n",
    "plt.xlabel('Predicted Label')\n",
    "plt.ylabel('True Label')\n",
    "plt.title('Confusion Matrix - Model 1')\n",
    "plt.tight_layout()\n",
    "plt.show()\n",
    "\n",
    "cm2 = confusion_matrix(all_labels2, all_preds2)\n",
    "plt.figure(figsize=(7, 6))\n",
    "sns.heatmap(cm2, annot=True, fmt='d', cmap='Blues', xticklabels=val_data.classes, yticklabels=val_data.classes)\n",
    "plt.xlabel('Predicted Label')\n",
    "plt.ylabel('True Label')\n",
    "plt.title('Confusion Matrix - Model 2')\n",
    "plt.tight_layout()\n",
    "plt.show()\n",
    "\n",
    "cm3 = confusion_matrix(all_labels3, all_preds3)\n",
    "plt.figure(figsize=(7, 6))\n",
    "sns.heatmap(cm3, annot=True, fmt='d', cmap='Blues', xticklabels=val_data.classes, yticklabels=val_data.classes)\n",
    "plt.xlabel('Predicted Label')\n",
    "plt.ylabel('True Label')\n",
    "plt.title('Confusion Matrix - Model 3')\n",
    "plt.tight_layout()\n",
    "plt.show()"
   ]
  },
  {
   "cell_type": "markdown",
   "metadata": {},
   "source": [
    "# Third task - Base model + new featurized blocks\n",
    "\n",
    "In order to execute this task it will be necessary to modify CNN2 class in to CNN3 above.\n",
    "\n",
    "This code addes two more featurizing block at the end of convulotional layer 2.\n",
    "\n",
    "However, to accommodate four identical convolutional blocks (Conv2d() with kernel_size=3 followed by MaxPool2d with kernel_size=2), the minimum feasible input image size is 124x124 pixels.\n",
    "\n",
    "The flatten layer remains the same:  `n_features * 5 * 5`\n",
    "\n",
    "With an input of this size, the feature map can be processed through all four blocks without its dimensions shrinking to a size smaller than the convolutional kernel."
   ]
  },
  {
   "cell_type": "code",
   "execution_count": null,
   "metadata": {},
   "outputs": [],
   "source": [
    "# Define a pipeline of image transformations:\n",
    "# 1) Resize each image to 46×46 pixels\n",
    "# 2) Ensure the output is a PIL/torchvision image (dropping any alpha channel)\n",
    "# 3) Cast pixels to float32 and scale from [0–255] to [0.0–1.0]\n",
    "# 4) Apply the user-defined normalization (e.g., mean/std normalization)\n",
    "composer = Compose([\n",
    "    Resize([124,124]),                         # Resize to 46×46\n",
    "    ToImage(),                          # Convert to PIL Image in RGB\n",
    "    ToDtype(torch.float32, scale=True), # Cast to float32 and normalize to [0,1]\n",
    "    normalizer                          # Apply custom normalization transform\n",
    "])\n",
    "\n",
    "# Instantiate training and validation datasets from folders:\n",
    "# - 'train_dataset_iracing' contains subfolders per class for training\n",
    "# - 'test_dataset_iracing' likewise for validation\n",
    "train_data_2 = ImageFolder(root='train_dataset_iracing', transform=composer)\n",
    "val_data_2   = ImageFolder(root='test_dataset_iracing', transform=composer)\n",
    "\n",
    "# Wrap datasets in DataLoaders for batching and shuffling:\n",
    "# - batch_size=16 yields mini-batches of 16 images\n",
    "# - shuffle=True randomizes training order each epoch\n",
    "train_loader_2 = DataLoader(train_data_2, batch_size=16, shuffle=True)\n",
    "val_loader_2   = DataLoader(val_data_2,   batch_size=16)  # no shuffle for validation"
   ]
  },
  {
   "cell_type": "code",
   "execution_count": null,
   "metadata": {},
   "outputs": [],
   "source": [
    "# the second element of this tuple is the label\n",
    "train_data_2[0][0].shape, train_data_2[0][1]"
   ]
  },
  {
   "cell_type": "markdown",
   "metadata": {},
   "source": [
    "It was added in CNN3 below the third and forth convolutional block. These blocks are equal to \n",
    " \n",
    "``` Python\n",
    "        # Convolutional block\n",
    "        # n_feature * @13x13 -> n_feature@11x11 -> n_feature@5x5\n",
    "        x = self.conv2(x)\n",
    "        x = F.relu(x)\n",
    "        x = F.max_pool2d(x, kernel_size=2)\n",
    "``` "
   ]
  },
  {
   "cell_type": "code",
   "execution_count": null,
   "metadata": {},
   "outputs": [],
   "source": [
    "class CNN3(nn.Module):\n",
    "    def __init__(self, n_feature, p=0.0):\n",
    "        super(CNN3, self).__init__()\n",
    "        self.n_feature = n_feature\n",
    "        self.p = p\n",
    "        # Creates the convolution layers\n",
    "        self.conv1 = nn.Conv2d(in_channels=3,\n",
    "                               out_channels=n_feature,\n",
    "                               kernel_size=3)\n",
    "        self.conv2 = nn.Conv2d(in_channels=n_feature,\n",
    "                               out_channels=n_feature,\n",
    "                               kernel_size=3)\n",
    "        \n",
    "        \n",
    "        # Creates the linear layers\n",
    "        # Where do this 5 * 5 come from?! Check it below\n",
    "        self.fc1 = nn.Linear(n_feature * 5 * 5, 50)\n",
    "        self.fc2 = nn.Linear(50, 4)  # Changed from 3 to 4 classes\n",
    "        # Creates dropout layers\n",
    "        self.drop = nn.Dropout(self.p)\n",
    "\n",
    "    def featurizer(self, x):\n",
    "        # Featurizer\n",
    "        # First convolutional block\n",
    "        # 3@28x28 -> n_feature@26x26 -> max_pool2d n_feature@13x13\n",
    "        x = self.conv1(x)\n",
    "        x = F.relu(x)\n",
    "        x = F.max_pool2d(x, kernel_size=2) #n_feature@13x13\n",
    "        \n",
    "        # Second convolutional block\n",
    "        # n_feature * @13x13 -> n_feature@11x11 -> n_feature@5x5\n",
    "        x = self.conv2(x)\n",
    "        x = F.relu(x)\n",
    "        x = F.max_pool2d(x, kernel_size=2)\n",
    "\n",
    "        # Third convolutional block\n",
    "        # n_feature@26x26 -> n_feature@13x13\n",
    "        x = self.conv2(x)\n",
    "        x = F.relu(x)\n",
    "        x = F.max_pool2d(x, kernel_size=2)\n",
    "        \n",
    "        # Forth convolutional block\n",
    "        # n_feature * @13x13 -> n_feature@11x11 -> n_feature@5x5\n",
    "        x = self.conv2(x)\n",
    "        x = F.relu(x)\n",
    "        x = F.max_pool2d(x, kernel_size=2)\n",
    "        \n",
    "        # Input dimension (n_feature@5x5)\n",
    "        # Output dimension (n_feature * 5 * 5)\n",
    "        x = nn.Flatten()(x)\n",
    "        return x\n",
    "\n",
    "    def classifier(self, x):\n",
    "        # Classifier\n",
    "\n",
    "        # Hidden Layer\n",
    "        # Input dimension (n_feature * 5 * 5)\n",
    "        # Output dimension (50)\n",
    "        if self.p > 0:\n",
    "            x = self.drop(x)\n",
    "        x = self.fc1(x)\n",
    "        x = F.relu(x)\n",
    "        \n",
    "        # Output Layer\n",
    "        # Input dimension (50)\n",
    "        # Output dimension (4)\n",
    "        if self.p > 0:\n",
    "            x = self.drop(x)\n",
    "        x = self.fc2(x)\n",
    "        return x\n",
    "\n",
    "    def forward(self, x):\n",
    "        x = self.featurizer(x)\n",
    "        x = self.classifier(x)\n",
    "        return x"
   ]
  },
  {
   "cell_type": "markdown",
   "metadata": {},
   "source": [
    "## Model configuration"
   ]
  },
  {
   "cell_type": "code",
   "execution_count": null,
   "metadata": {},
   "outputs": [],
   "source": [
    "torch.manual_seed(13)\n",
    "\n",
    "# Model/Architecture\n",
    "model4_cnn3 = CNN3(n_feature=5, p=0.3) #n_feature remains 5. Change CNN3\n",
    "\n",
    "# Loss function\n",
    "multi_loss_fn = nn.CrossEntropyLoss(reduction='mean')\n",
    "\n",
    "# Optimizer\n",
    "optimizer_cnn3 = optim.Adam(model4_cnn3.parameters(), lr=3e-4)"
   ]
  },
  {
   "cell_type": "code",
   "execution_count": null,
   "metadata": {},
   "outputs": [],
   "source": [
    "arch4_cnn2 = Architecture(model4_cnn3,\n",
    "                        multi_loss_fn,\n",
    "                        optimizer_cnn3)\n",
    "arch4_cnn2.set_loaders(train_loader_2, val_loader_2)\n",
    "arch4_cnn2.train(8)"
   ]
  },
  {
   "cell_type": "code",
   "execution_count": null,
   "metadata": {},
   "outputs": [],
   "source": [
    "#Model 4 Save\n",
    "torch.save(model4_cnn3.state_dict(), 'model4_cnn3.pth')\n",
    "\n",
    "fig = arch4_cnn2.plot_losses()"
   ]
  },
  {
   "cell_type": "code",
   "execution_count": null,
   "metadata": {},
   "outputs": [],
   "source": [
    "correct_counts4 = Architecture.loader_apply(val_loader_2, arch4_cnn2.correct)\n",
    "correct_counts4"
   ]
  },
  {
   "cell_type": "markdown",
   "metadata": {},
   "source": [
    "it took 61 minutes to train model 4 during 8 epochs"
   ]
  },
  {
   "cell_type": "code",
   "execution_count": null,
   "metadata": {},
   "outputs": [],
   "source": [
    "# Plot confusion matrix for Model 4\n",
    "all_preds4 = []\n",
    "all_labels4 = []\n",
    "arch4_cnn2.model.eval()\n",
    "\n",
    "with torch.no_grad():\n",
    "    for images, labels in val_loader_2:\n",
    "        logits = arch4_cnn2.predict(images)\n",
    "        preds = np.argmax(logits, axis=1)\n",
    "        all_preds4.extend(preds)\n",
    "        all_labels4.extend(labels.cpu().numpy())\n",
    "cm4 = confusion_matrix(all_labels4, all_preds4)\n",
    "plt.figure(figsize=(7, 6))\n",
    "sns.heatmap(cm4, annot=True, fmt='d', cmap='Blues', xticklabels=val_data_2.classes, yticklabels=val_data_2.classes)\n",
    "plt.xlabel('Predicted Label')\n",
    "plt.ylabel('True Label')\n",
    "plt.title('Confusion Matrix - Model 4')\n",
    "plt.tight_layout()\n",
    "plt.show()"
   ]
  },
  {
   "cell_type": "markdown",
   "metadata": {},
   "source": [
    "# Comparing Models\n",
    "\n",
    "Comparison among all 4 trained models in this project"
   ]
  },
  {
   "cell_type": "code",
   "execution_count": null,
   "metadata": {},
   "outputs": [],
   "source": [
    "# Load all models' weights\n",
    "model_cnn2.load_state_dict(torch.load('base_model_cnn2.pth'))\n",
    "model2_cnn2.load_state_dict(torch.load('model2_cnn2.pth'))\n",
    "model3_cnn2.load_state_dict(torch.load('model3_cnn2.pth'))\n",
    "model4_cnn3.load_state_dict(torch.load('model4_cnn3.pth'))\n",
    "\n",
    "# Set models to evaluation mode\n",
    "model_cnn2.eval()\n",
    "model2_cnn2.eval()\n",
    "model3_cnn2.eval()\n",
    "model4_cnn3.eval()\n",
    "\n",
    "# Helper function to compute accuracy\n",
    "def compute_accuracy(all_labels, all_preds):\n",
    "    all_labels = np.array(all_labels)\n",
    "    all_preds = np.array(all_preds)\n",
    "    return (all_labels == all_preds).sum() / len(all_labels)\n",
    "\n",
    "# Model 1 (CNN2, n_feature=5, 28x28)\n",
    "all_preds1, all_labels1 = [], []\n",
    "with torch.no_grad():\n",
    "    for images, labels in val_loader:\n",
    "        logits = model_cnn2(images)\n",
    "        preds = torch.argmax(logits, axis=1)\n",
    "        all_preds1.extend(preds.cpu().numpy())\n",
    "        all_labels1.extend(labels.cpu().numpy())\n",
    "acc1 = compute_accuracy(all_labels1, all_preds1)\n",
    "\n",
    "# Model 2 (CNN2, n_feature=3, 28x28)\n",
    "all_preds2, all_labels2 = [], []\n",
    "with torch.no_grad():\n",
    "    for images, labels in val_loader:\n",
    "        logits = model2_cnn2(images)\n",
    "        preds = torch.argmax(logits, axis=1)\n",
    "        all_preds2.extend(preds.cpu().numpy())\n",
    "        all_labels2.extend(labels.cpu().numpy())\n",
    "acc2 = compute_accuracy(all_labels2, all_preds2)\n",
    "\n",
    "# Model 3 (CNN2, n_feature=10, 28x28)\n",
    "all_preds3, all_labels3 = [], []\n",
    "with torch.no_grad():\n",
    "    for images, labels in val_loader:\n",
    "        logits = model3_cnn2(images)\n",
    "        preds = torch.argmax(logits, axis=1)\n",
    "        all_preds3.extend(preds.cpu().numpy())\n",
    "        all_labels3.extend(labels.cpu().numpy())\n",
    "acc3 = compute_accuracy(all_labels3, all_preds3)\n",
    "\n",
    "# Model 4 (CNN3, n_feature=5, 124x124)\n",
    "all_preds4, all_labels4 = [], []\n",
    "with torch.no_grad():\n",
    "    for images, labels in val_loader_2:\n",
    "        logits = model4_cnn3(images)\n",
    "        preds = torch.argmax(logits, axis=1)\n",
    "        all_preds4.extend(preds.cpu().numpy())\n",
    "        all_labels4.extend(labels.cpu().numpy())\n",
    "acc4 = compute_accuracy(all_labels4, all_preds4)\n",
    "\n",
    "# Print insights\n",
    "print(f\"Model 1 (CNN2, n_feature=5, 28x28):   Accuracy = {acc1:.3f}\")\n",
    "print(f\"Model 2 (CNN2, n_feature=3, 28x28):   Accuracy = {acc2:.3f}\")\n",
    "print(f\"Model 3 (CNN2, n_feature=10, 28x28):  Accuracy = {acc3:.3f}\")\n",
    "print(f\"Model 4 (CNN3, n_feature=5, 124x124): Accuracy = {acc4:.3f}\")\n",
    "\n",
    "# Insight\n",
    "print(\"\\nInsight:\")\n",
    "print(\"Increasing the number of features from 3 to 5 to 10 in CNN2 shows how model capacity affects accuracy.\")\n",
    "print(\"Model 4 (CNN3) with deeper architecture and larger input size achieves different performance,\")\n",
    "print(\"highlighting the impact of both network depth and input resolution on classification accuracy.\")"
   ]
  },
  {
   "cell_type": "markdown",
   "metadata": {},
   "source": [
    "# Task 4 - Resizing image to 128x128"
   ]
  },
  {
   "cell_type": "markdown",
   "metadata": {},
   "source": [
    "## CNN4 CLASS"
   ]
  },
  {
   "cell_type": "code",
   "execution_count": 4,
   "metadata": {},
   "outputs": [],
   "source": [
    "class CNN4(nn.Module):\n",
    "    def __init__(self, n_feature, p=0.0):\n",
    "        super(CNN4, self).__init__()\n",
    "        self.n_feature = n_feature\n",
    "        self.p = p\n",
    "        # Creates the convolution layers\n",
    "        self.conv1 = nn.Conv2d(in_channels=3,\n",
    "                               out_channels=n_feature,\n",
    "                               kernel_size=5)\n",
    "        self.conv2 = nn.Conv2d(in_channels=n_feature,\n",
    "                               out_channels=n_feature,\n",
    "                               kernel_size=3)\n",
    "        # Creates the linear layers\n",
    "        # Where do this 115 * 63 come from?! Check it below\n",
    "        self.fc1 = nn.Linear(n_feature * 30 * 30, 128)\n",
    "        self.fc2 = nn.Linear(128, 4)  # Changed from 3 to 4 classes\n",
    "        # Creates dropout layers\n",
    "        self.drop = nn.Dropout(self.p)\n",
    "\n",
    "    def featurizer(self, x):\n",
    "        # Featurizer\n",
    "        # First convolutional block\n",
    "        # 3@28x28 -> n_feature@26x26 -> n_feature@13x13\n",
    "        x = self.conv1(x)\n",
    "        x = F.relu(x)\n",
    "        x = F.max_pool2d(x, kernel_size=2) #maxpool kernel size 3\n",
    "        # Second convolutional block\n",
    "        # n_feature * @13x13 -> n_feature@11x11 -> n_feature@5x5\n",
    "        x = self.conv2(x)\n",
    "        x = F.relu(x)\n",
    "        x = F.max_pool2d(x, kernel_size=2) #maxpool kernel size 2\n",
    "        # Input dimension (n_feature@5x5)\n",
    "        # Output dimension (n_feature * 5 * 5)\n",
    "        x = nn.Flatten()(x)\n",
    "        return x\n",
    "\n",
    "    def classifier(self, x):\n",
    "        # Classifier\n",
    "        # Hidden Layer\n",
    "        # Input dimension (n_feature * 5 * 5)\n",
    "        # Output dimension (50)\n",
    "        if self.p > 0:\n",
    "            x = self.drop(x)\n",
    "        x = self.fc1(x)\n",
    "        x = F.relu(x)\n",
    "        # Output Layer\n",
    "        # Input dimension (50)\n",
    "        # Output dimension (4)\n",
    "        if self.p > 0:\n",
    "            x = self.drop(x)\n",
    "        x = self.fc2(x)\n",
    "        return x\n",
    "\n",
    "    def forward(self, x):\n",
    "        x = self.featurizer(x)\n",
    "        x = self.classifier(x)\n",
    "        return x"
   ]
  },
  {
   "cell_type": "markdown",
   "metadata": {},
   "source": [
    "## Import image folder"
   ]
  },
  {
   "cell_type": "markdown",
   "metadata": {},
   "source": [
    "## Temp transform for normalization"
   ]
  },
  {
   "cell_type": "code",
   "execution_count": 5,
   "metadata": {},
   "outputs": [],
   "source": [
    "# Compose a sequence of preprocessing transforms\n",
    "# 1) Resize images to 28×28 pixels\n",
    "# 2) Ensure output is a PIL/torchvision Image (dropping any alpha channel)\n",
    "# 3) Convert pixel values to float32 and scale from [0–255] to [0.0–1.0]\n",
    "temp_transform = Compose([\n",
    "    Resize([128,128]),                        # Resize each image to 28×28\n",
    "    ToImage(),                         # Convert tensor back to PIL Image (enforces RGB)\n",
    "    ToDtype(torch.float32, scale=True) # Cast to float32 and normalize pixel range\n",
    "])\n",
    "\n",
    "# Create an ImageFolder dataset from the 'rps' directory\n",
    "# Images are grouped by subfolder name as class labels, and each image is transformed\n",
    "temp_dataset = ImageFolder(\n",
    "    root='train_dataset_iracing',\n",
    "    transform=temp_transform          # Apply the preprocessing pipeline to every image\n",
    ")"
   ]
  },
  {
   "cell_type": "code",
   "execution_count": 6,
   "metadata": {},
   "outputs": [
    {
     "data": {
      "text/plain": [
       "(torch.Size([3, 128, 128]), 0)"
      ]
     },
     "execution_count": 6,
     "metadata": {},
     "output_type": "execute_result"
    }
   ],
   "source": [
    "# the second element of this tuple is the label\n",
    "temp_dataset[0][0].shape, temp_dataset[0][1]"
   ]
  },
  {
   "cell_type": "code",
   "execution_count": 7,
   "metadata": {},
   "outputs": [
    {
     "name": "stdout",
     "output_type": "stream",
     "text": [
      "Dataset size: 7926 images\n",
      "Number of classes: 4\n"
     ]
    }
   ],
   "source": [
    "# Get total number of samples in the dataset\n",
    "dataset_size = len(temp_dataset)\n",
    "print(f\"Dataset size: {dataset_size} images\")\n",
    "\n",
    "# Get number of classes\n",
    "num_classes = len(temp_dataset.classes)\n",
    "print(f\"Number of classes: {num_classes}\")"
   ]
  },
  {
   "cell_type": "markdown",
   "metadata": {},
   "source": [
    "## Standardization"
   ]
  },
  {
   "cell_type": "code",
   "execution_count": 8,
   "metadata": {},
   "outputs": [],
   "source": [
    "temp_loader = DataLoader(temp_dataset, batch_size=16)"
   ]
  },
  {
   "cell_type": "code",
   "execution_count": null,
   "metadata": {},
   "outputs": [],
   "source": [
    "# we can compute the average mean value and the average standard deviation, per channel.\n",
    "# make_normalizer() is a method that takes a data loader and returns an instance of the Normalize() transform\n",
    "normalizer_4 = Architecture.make_normalizer(temp_loader)\n",
    "normalizer_4"
   ]
  },
  {
   "cell_type": "markdown",
   "metadata": {},
   "source": [
    "Using 128x128 size images we got Mean and Std below:\n",
    "\n",
    "* mean=[tensor(0.2624), tensor(0.2789), tensor(0.2882)],\n",
    "* Std=[tensor(0.2756), tensor(0.2969), tensor(0.3162)],"
   ]
  },
  {
   "cell_type": "code",
   "execution_count": 9,
   "metadata": {},
   "outputs": [
    {
     "data": {
      "text/plain": [
       "Normalize(mean=[tensor(0.2624), tensor(0.2789), tensor(0.2882)], std=[tensor(0.2655), tensor(0.2874), tensor(0.3076)], inplace=False)"
      ]
     },
     "execution_count": 9,
     "metadata": {},
     "output_type": "execute_result"
    }
   ],
   "source": [
    "# Save normalization values as normalize2 (as tensors)\n",
    "normalizer_4 = Normalize(\n",
    "    mean=torch.tensor([0.2624, 0.2789, 0.2882]),\n",
    "    std=torch.tensor([0.2655, 0.2874, 0.3076]),\n",
    "    inplace=False\n",
    ")\n",
    "normalizer_4"
   ]
  },
  {
   "cell_type": "code",
   "execution_count": 10,
   "metadata": {},
   "outputs": [],
   "source": [
    "# Define a pipeline of image transformations:\n",
    "# 1) Resize each image to 480×270 pixels\n",
    "# 2) Ensure the output is a PIL/torchvision image (dropping any alpha channel)\n",
    "# 3) Cast pixels to float32 and scale from [0–255] to [0.0–1.0]\n",
    "# 4) Apply the user-defined normalization (e.g., mean/std normalization)\n",
    "composer = Compose([\n",
    "    Resize([128,128]),                         # Resize to 128×128\n",
    "    ToImage(),                          # Convert to PIL Image in RGB\n",
    "    ToDtype(torch.float32, scale=True), # Cast to float32 and normalize to [0,1]\n",
    "    normalizer_4                         # Apply custom normalization transform\n",
    "])\n",
    "\n",
    "# Instantiate training and validation datasets from folders:\n",
    "# - 'train_dataset_iracing' contains subfolders per class for training\n",
    "# - 'test_dataset_iracing' likewise for validation\n",
    "train_data = ImageFolder(root='train_dataset_iracing', transform=composer)\n",
    "val_data   = ImageFolder(root='test_dataset_iracing', transform=composer)\n",
    "\n",
    "# Wrap datasets in DataLoaders for batching and shuffling:\n",
    "# - batch_size=16 yields mini-batches of 16 images\n",
    "# - shuffle=True randomizes training order each epoch\n",
    "train_loader_3 = DataLoader(train_data, batch_size=16, shuffle=True)\n",
    "val_loader_3   = DataLoader(val_data,   batch_size=16)  # no shuffle for validation"
   ]
  },
  {
   "cell_type": "markdown",
   "metadata": {},
   "source": [
    "## Model Configuration"
   ]
  },
  {
   "cell_type": "code",
   "execution_count": null,
   "metadata": {},
   "outputs": [],
   "source": [
    "torch.manual_seed(13)\n",
    "\n",
    "# Model/Architecture\n",
    "base_model2_cnn4 = CNN4(n_feature=5, p=0.3)\n",
    "\n",
    "# Loss function\n",
    "multi_loss_fn = nn.CrossEntropyLoss(reduction='mean')\n",
    "\n",
    "# Optimizer\n",
    "base_optimizer_cnn4 = optim.Adam(base_model2_cnn4.parameters(), lr=3e-4)"
   ]
  },
  {
   "cell_type": "markdown",
   "metadata": {},
   "source": [
    "## Model training"
   ]
  },
  {
   "cell_type": "code",
   "execution_count": null,
   "metadata": {},
   "outputs": [],
   "source": [
    "arch_cnn4 = Architecture(base_model2_cnn4,\n",
    "                        multi_loss_fn,\n",
    "                        base_optimizer_cnn4)\n",
    "arch_cnn4.set_loaders(train_loader_3, val_loader_3)\n",
    "arch_cnn4.train(7)"
   ]
  },
  {
   "cell_type": "code",
   "execution_count": null,
   "metadata": {},
   "outputs": [],
   "source": [
    "torch.save(base_model2_cnn4.state_dict(), 'base_model2_cnn4.pth')\n",
    "\n",
    "fig = arch_cnn4.plot_losses()"
   ]
  },
  {
   "cell_type": "markdown",
   "metadata": {},
   "source": [
    "## Model 2 and 3 - changing number of features"
   ]
  },
  {
   "cell_type": "code",
   "execution_count": null,
   "metadata": {},
   "outputs": [],
   "source": [
    "#Model 2\n",
    "torch.manual_seed(13)\n",
    "\n",
    "# Model/Architecture\n",
    "model2_cnn4 = CNN4(n_feature=3, p=0.3) #changed n_feature from 5 to 3\n",
    "\n",
    "# Loss function\n",
    "multi_loss_fn = nn.CrossEntropyLoss(reduction='mean')\n",
    "\n",
    "# Optimizer\n",
    "optimizer2_cnn4 = optim.Adam(model2_cnn4.parameters(), lr=3e-4)   "
   ]
  },
  {
   "cell_type": "code",
   "execution_count": null,
   "metadata": {},
   "outputs": [],
   "source": [
    "arch2_cnn4 = Architecture(model2_cnn4,\n",
    "                        multi_loss_fn,\n",
    "                        optimizer2_cnn4)\n",
    "arch2_cnn4.set_loaders(train_loader_3, val_loader_3)\n",
    "arch2_cnn4.train(7)"
   ]
  },
  {
   "cell_type": "code",
   "execution_count": null,
   "metadata": {},
   "outputs": [],
   "source": [
    "torch.save(model2_cnn4.state_dict(), 'model2_cnn4.pth')\n",
    "\n",
    "fig = arch2_cnn4.plot_losses()"
   ]
  },
  {
   "cell_type": "code",
   "execution_count": null,
   "metadata": {},
   "outputs": [],
   "source": [
    "#Model 3\n",
    "torch.manual_seed(13)\n",
    "# Model/Architecture\n",
    "model3_cnn4 = CNN4(n_feature=10, p=0.3) #changed n_feature from 5 to 10\n",
    "# Loss function\n",
    "multi_loss_fn = nn.CrossEntropyLoss(reduction='mean')\n",
    "# Optimizer\n",
    "optimizer3_cnn4 = optim.Adam(model3_cnn4.parameters(), lr=3e-4)\n"
   ]
  },
  {
   "cell_type": "code",
   "execution_count": null,
   "metadata": {},
   "outputs": [],
   "source": [
    "arch3_cnn4 = Architecture(model3_cnn4,\n",
    "                        multi_loss_fn,\n",
    "                        optimizer3_cnn4)\n",
    "arch3_cnn4.set_loaders(train_loader_3, val_loader_3)\n",
    "arch3_cnn4.train(7)"
   ]
  },
  {
   "cell_type": "code",
   "execution_count": null,
   "metadata": {},
   "outputs": [],
   "source": [
    "#Plot losses for model 3\n",
    "torch.save(model3_cnn4.state_dict(), 'model3_cnn4.pth')\n",
    "fig = arch3_cnn4.plot_losses()\n"
   ]
  },
  {
   "cell_type": "markdown",
   "metadata": {},
   "source": [
    "## Load models"
   ]
  },
  {
   "cell_type": "code",
   "execution_count": null,
   "metadata": {},
   "outputs": [],
   "source": [
    "torch.manual_seed(13)\n",
    "\n",
    "# Model/Architecture\n",
    "base_model2_cnn4 = CNN4(n_feature=5, p=0.3)\n",
    "model2_cnn4 = CNN4(n_feature=3, p=0.3) #changed n_feature from 5 to 3\n",
    "model3_cnn4 = CNN4(n_feature=10, p=0.3) #changed n_feature from 5 to 10\n",
    "\n",
    "# Loss function\n",
    "multi_loss_fn = nn.CrossEntropyLoss(reduction='mean')\n",
    "\n",
    "# Optimizer\n",
    "base_optimizer_cnn4 = optim.Adam(base_model2_cnn4.parameters(), lr=3e-4)\n",
    "optimizer2_cnn4 = optim.Adam(model2_cnn4.parameters(), lr=3e-4)   \n",
    "optimizer3_cnn4 = optim.Adam(model3_cnn4.parameters(), lr=3e-4)\n",
    "\n",
    "\n"
   ]
  },
  {
   "cell_type": "code",
   "execution_count": null,
   "metadata": {},
   "outputs": [],
   "source": [
    "# Load weights for all three CNN4 models\n",
    "base_model2_cnn4.load_state_dict(torch.load('base_model2_cnn4.pth'))\n",
    "model2_cnn4.load_state_dict(torch.load('model2_cnn4.pth'))\n",
    "model3_cnn4.load_state_dict(torch.load('model3_cnn4.pth'))\n",
    "\n",
    "#Load Architecture\n",
    "arch_cnn4 = Architecture(base_model2_cnn4,\n",
    "                        multi_loss_fn,\n",
    "                        base_optimizer_cnn4)\n",
    "arch_cnn4.set_loaders(train_loader_3, val_loader_3)\n",
    "\n",
    "arch2_cnn4 = Architecture(model2_cnn4,\n",
    "                        multi_loss_fn,\n",
    "                        optimizer2_cnn4)\n",
    "arch2_cnn4.set_loaders(train_loader_3, val_loader_3)\n",
    "\n",
    "arch3_cnn4 = Architecture(model3_cnn4,\n",
    "                        multi_loss_fn,\n",
    "                        optimizer3_cnn4)\n",
    "arch3_cnn4.set_loaders(train_loader_3, val_loader_3)\n",
    "\n",
    "# Set models to evaluation mode\n",
    "base_model2_cnn4.eval()\n",
    "model2_cnn4.eval()\n",
    "model3_cnn4.eval()"
   ]
  },
  {
   "cell_type": "markdown",
   "metadata": {},
   "source": [
    "# Task 5 - Increase number of blocks\n",
    "\n",
    "In order to execute this task it will be necessary to modify CNN4 class in to CNN5 below.\n",
    "\n",
    "This code addes two more featurizing block at the end of convulotional layer 2.\n",
    "\n",
    "However, to accommodate four identical convolutional blocks (Conv2d() with kernel_size=5 followed by MaxPool2d with kernel_size=2), the minimum feasible input image size is 64x64 pixels.\n",
    "\n",
    "Therefore, our size reduction to `128x128` still works.\n",
    "With an input of this size, the feature map can be processed through all four blocks without its dimensions shrinking to a size smaller than the convolutional kernel.\n",
    "\n",
    "The flatten layer remains the same:  `n_features * 5 * 5`\n",
    "\n"
   ]
  },
  {
   "cell_type": "markdown",
   "metadata": {},
   "source": [
    "## CNN5 Class"
   ]
  },
  {
   "cell_type": "markdown",
   "metadata": {},
   "source": [
    "It was added in CNN3 below the third and forth convolutional block. These blocks are equal to \n",
    " \n",
    "``` Python\n",
    "        # Convolutional block\n",
    "        # n_feature * @13x13 -> n_feature@11x11 -> n_feature@5x5\n",
    "        x = self.conv2(x)\n",
    "        x = F.relu(x)\n",
    "        x = F.max_pool2d(x, kernel_size=2)\n",
    "``` "
   ]
  },
  {
   "cell_type": "code",
   "execution_count": null,
   "metadata": {},
   "outputs": [],
   "source": [
    "class CNN5(nn.Module):\n",
    "    def __init__(self, n_feature, p=0.0):\n",
    "        super(CNN5, self).__init__()\n",
    "        self.n_feature = n_feature\n",
    "        self.p = p\n",
    "        # Creates the convolution layers\n",
    "        self.conv1 = nn.Conv2d(in_channels=3,\n",
    "                               out_channels=n_feature,\n",
    "                               kernel_size=5)\n",
    "        self.conv2 = nn.Conv2d(in_channels=n_feature,\n",
    "                               out_channels=n_feature,\n",
    "                               kernel_size=3)\n",
    "        self.conv3 = nn.Conv2d(in_channels=n_feature,\n",
    "                               out_channels=n_feature,\n",
    "                               kernel_size=5)\n",
    "        \n",
    "        # Creates the linear layers\n",
    "        # input n_feature * 5 * 5 = 125\n",
    "        # output 128 neurons\n",
    "        self.fc1 = nn.Linear(n_feature * 5 * 5, 50)\n",
    "        self.fc2 = nn.Linear(50, 4)  # Changed from 3 to 4 classes\n",
    "        # Creates dropout layers\n",
    "        self.drop = nn.Dropout(self.p)\n",
    "\n",
    "    def featurizer(self, x):\n",
    "        # Featurizer\n",
    "        # First convolutional block\n",
    "        # 3@28x28 -> n_feature@26x26 -> max_pool2d n_feature@13x13\n",
    "        x = self.conv1(x)\n",
    "        x = F.relu(x)\n",
    "        x = F.max_pool2d(x, kernel_size=2) #n_feature@13x13\n",
    "        \n",
    "        # Second convolutional block\n",
    "        # n_feature * @13x13 -> n_feature@11x11 -> n_feature@5x5\n",
    "        x = self.conv2(x)\n",
    "        x = F.relu(x)\n",
    "        x = F.max_pool2d(x, kernel_size=2)\n",
    "\n",
    "        # Third convolutional block\n",
    "        # n_feature@26x26 -> n_feature@13x13\n",
    "        x = self.conv3(x)\n",
    "        x = F.relu(x)\n",
    "        x = F.max_pool2d(x, kernel_size=2)\n",
    "        \n",
    "        # Forth convolutional block\n",
    "        # n_feature * @13x13 -> n_feature@11x11 -> n_feature@5x5\n",
    "        x = self.conv2(x)\n",
    "        x = F.relu(x)\n",
    "        x = F.max_pool2d(x, kernel_size=2)\n",
    "        \n",
    "        # Input dimension (n_feature@5x5)\n",
    "        # Output dimension (n_feature * 5 * 5)\n",
    "        x = nn.Flatten()(x)\n",
    "        return x\n",
    "\n",
    "    def classifier(self, x):\n",
    "        # Classifier\n",
    "\n",
    "        # Hidden Layer\n",
    "        # Input dimension (n_feature * 5 * 5)\n",
    "        # Output dimension (50)\n",
    "        if self.p > 0:\n",
    "            x = self.drop(x)\n",
    "        x = self.fc1(x)\n",
    "        x = F.relu(x)\n",
    "        \n",
    "        # Output Layer\n",
    "        # Input dimension (50)\n",
    "        # Output dimension (4)\n",
    "        if self.p > 0:\n",
    "            x = self.drop(x)\n",
    "        x = self.fc2(x)\n",
    "        return x\n",
    "\n",
    "    def forward(self, x):\n",
    "        x = self.featurizer(x)\n",
    "        x = self.classifier(x)\n",
    "        return x"
   ]
  },
  {
   "cell_type": "markdown",
   "metadata": {},
   "source": [
    "## Model 4\n"
   ]
  },
  {
   "cell_type": "code",
   "execution_count": null,
   "metadata": {},
   "outputs": [],
   "source": [
    "# Model 4\n",
    "torch.manual_seed(13)\n",
    "\n",
    "# Model/Architecture\n",
    "model4_cnn5 = CNN5(n_feature=5, p=0.3)\n",
    "\n",
    "# Loss function\n",
    "multi_loss_fn = nn.CrossEntropyLoss(reduction='mean')\n",
    "\n",
    "# Optimizer\n",
    "optimizer4_cnn5 = optim.Adam(model4_cnn5.parameters(), lr=3e-4)\n",
    "\n"
   ]
  },
  {
   "cell_type": "code",
   "execution_count": null,
   "metadata": {},
   "outputs": [],
   "source": [
    "# Architecture\n",
    "arch4_cnn5 = Architecture(model4_cnn5,\n",
    "                          multi_loss_fn,\n",
    "                          optimizer4_cnn5)\n",
    "arch4_cnn5.set_loaders(train_loader_3, val_loader_3)\n",
    "arch4_cnn5.train(7)"
   ]
  },
  {
   "cell_type": "code",
   "execution_count": null,
   "metadata": {},
   "outputs": [],
   "source": [
    "#Plot losses for model 4\n",
    "torch.save(model4_cnn5.state_dict(), 'model4_cnn5.pth')\n",
    "fig = arch4_cnn5.plot_losses()\n"
   ]
  },
  {
   "cell_type": "code",
   "execution_count": null,
   "metadata": {},
   "outputs": [],
   "source": [
    "#configure model 4\n",
    "model4_cnn5 = CNN5(n_feature=5, p=0.3) #n_feature remains 5. Change CNN5\n",
    "# Loss function\n",
    "multi_loss_fn = nn.CrossEntropyLoss(reduction='mean')\n",
    "# Optimizer\n",
    "optimizer4_cnn5 = optim.Adam(model4_cnn5.parameters(), lr=3e-4)\n",
    "\n",
    "#Load model 4\n",
    "model4_cnn5.load_state_dict(torch.load('model4_cnn5.pth'))\n",
    "\n",
    "#load architecture for model 4\n",
    "arch4_cnn5 = Architecture(model4_cnn5,\n",
    "                          multi_loss_fn,\n",
    "                          optimizer4_cnn5)\n",
    "arch4_cnn5.set_loaders(train_loader_3, val_loader_3)\n",
    "\n",
    "# Set model to evaluation mode\n",
    "model4_cnn5.eval()"
   ]
  },
  {
   "cell_type": "markdown",
   "metadata": {},
   "source": [
    "# Models Accuracy"
   ]
  },
  {
   "cell_type": "code",
   "execution_count": null,
   "metadata": {},
   "outputs": [],
   "source": [
    "correct_counts = Architecture.loader_apply(val_loader_3, arch_cnn4.correct)\n",
    "correct_counts"
   ]
  },
  {
   "cell_type": "code",
   "execution_count": null,
   "metadata": {},
   "outputs": [],
   "source": [
    "correct_counts2 = Architecture.loader_apply(val_loader_3, arch2_cnn4.correct)\n",
    "correct_counts2"
   ]
  },
  {
   "cell_type": "code",
   "execution_count": null,
   "metadata": {},
   "outputs": [],
   "source": [
    "correct_counts3 = Architecture.loader_apply(val_loader_3, arch3_cnn4.correct)\n",
    "correct_counts3"
   ]
  },
  {
   "cell_type": "code",
   "execution_count": null,
   "metadata": {},
   "outputs": [],
   "source": [
    "correct_counts4 = Architecture.loader_apply(val_loader_3, arch4_cnn5.correct)\n",
    "correct_counts4"
   ]
  },
  {
   "cell_type": "code",
   "execution_count": null,
   "metadata": {},
   "outputs": [],
   "source": [
    "# List of data to iterate through\n",
    "models_data = [correct_counts, correct_counts2, correct_counts3, correct_counts4]\n",
    "accuracies = []\n",
    "\n",
    "# Calculate the accuracy for each model\n",
    "for data in models_data:\n",
    "    total_correct = data[:, 0].sum().item()\n",
    "    total_samples = data[:, 1].sum().item()\n",
    "    accuracy = (total_correct / total_samples) * 100  # Convert to percentage\n",
    "    accuracies.append(accuracy)\n",
    "\n",
    "# Step 2: Put image text in English\n",
    "model_names = ['Model 1', 'Model 2', 'Model 3', 'Model 4']\n",
    "\n",
    "# Create the plot\n",
    "fig, ax = plt.subplots(figsize=(10, 7))\n",
    "bars = ax.bar(model_names, accuracies, color=['#1f77b4', '#ff7f0e', '#2ca02c','#d62728'],)\n",
    "\n",
    "# Add title and labels in English\n",
    "ax.set_title('Model Accuracy Comparison', fontsize=16, fontweight='bold')\n",
    "ax.set_ylabel('Accuracy (%)', fontsize=12)\n",
    "ax.set_ylim(0, max(accuracies) + 10) # Set Y-axis limit slightly above the highest bar\n",
    "ax.yaxis.grid(False)\n",
    "ax.set_yticklabels([]) #remove y-tick labels for cleaner look\n",
    "\n",
    "# Add the exact value on top of each bar\n",
    "for bar in bars:\n",
    "    yval = bar.get_height()\n",
    "    ax.text(bar.get_x() + bar.get_width()/2.0, yval + 1.0, f'{yval:.2f}%',\n",
    "            ha='center', va='bottom', fontsize=11, fontweight='bold')\n",
    "\n",
    "# Improve layout to prevent overlap\n",
    "plt.tight_layout()\n",
    "\n",
    "# Save the figure to a file\n",
    "plt.savefig('model_accuracy_comparison.png')\n",
    "\n",
    "# Show the plot\n",
    "plt.show()\n",
    "\n",
    "# Print the calculated values in English\n",
    "for i, acc in enumerate(accuracies):\n",
    "    print(f\"{model_names[i]}: Accuracy of {acc:.2f}%\")"
   ]
  },
  {
   "cell_type": "markdown",
   "metadata": {},
   "source": [
    "We can see from graph above that the variation in number of feature (n) changes the model accuracy. The best model had accuracy of 65%, which is very low."
   ]
  },
  {
   "cell_type": "markdown",
   "metadata": {},
   "source": [
    "## Confusion Matrix\n",
    "\n",
    "In this section we will analyze the confusion matrix of the best model - `base_model_cnn2`"
   ]
  },
  {
   "cell_type": "markdown",
   "metadata": {},
   "source": [
    "### Load model"
   ]
  },
  {
   "cell_type": "code",
   "execution_count": 11,
   "metadata": {},
   "outputs": [],
   "source": [
    "torch.manual_seed(13)\n",
    "# Model/Architecture\n",
    "base_model2_cnn4 = CNN4(n_feature=5, p=0.3)\n",
    "\n",
    "# Loss function\n",
    "multi_loss_fn = nn.CrossEntropyLoss(reduction='mean')\n",
    "\n",
    "# Optimizer\n",
    "base_optimizer_cnn4 = optim.Adam(base_model2_cnn4.parameters(), lr=3e-4)"
   ]
  },
  {
   "cell_type": "code",
   "execution_count": 12,
   "metadata": {},
   "outputs": [],
   "source": [
    "#load base model\n",
    "base_model2_cnn4.load_state_dict(torch.load('base_model2_cnn4.pth'))\n",
    "#load architecture\n",
    "arch_cnn4 = Architecture(base_model2_cnn4,\n",
    "                        multi_loss_fn,\n",
    "                        base_optimizer_cnn4)\n",
    "arch_cnn4.set_loaders(train_loader_3, val_loader_3)\n"
   ]
  },
  {
   "cell_type": "code",
   "execution_count": 17,
   "metadata": {},
   "outputs": [
    {
     "data": {
      "image/png": "[encoded data removed]",
      "text/plain": [
       "<Figure size 900x700 with 2 Axes>"
      ]
     },
     "metadata": {},
     "output_type": "display_data"
    }
   ],
   "source": [
    "\n",
    "# --- 1. Setup ---\n",
    "# Define the device (GPU or CPU)\n",
    "device = torch.device(\"cuda\" if torch.cuda.is_available() else \"cpu\")\n",
    "\n",
    "# Move your model to the correct device\n",
    "base_model2_cnn4.to(device)\n",
    "\n",
    "# --- 2. Collect Predictions and True Labels ---\n",
    "all_preds = []\n",
    "all_labels = []\n",
    "\n",
    "# Set the model to evaluation mode\n",
    "base_model2_cnn4.eval()\n",
    "\n",
    "# Disable gradient calculations for inference\n",
    "with torch.no_grad():\n",
    "    for images, labels in val_loader_3:\n",
    "        # Move data to the same device as the model\n",
    "        images = images.to(device)\n",
    "        \n",
    "        # Get model outputs (logits)\n",
    "        logits = base_model2_cnn4(images)\n",
    "        \n",
    "        # Get the predicted class index\n",
    "        preds = torch.argmax(logits, axis=1)\n",
    "        \n",
    "        # Move data back to the CPU for compatibility with numpy and sklearn\n",
    "        all_preds.extend(preds.cpu().numpy())\n",
    "        all_labels.extend(labels.cpu().numpy())\n",
    "\n",
    "# --- 3. Compute and Plot the Confusion Matrix ---\n",
    "# Calculate the confusion matrix\n",
    "cm = confusion_matrix(all_labels, all_preds)\n",
    "\n",
    "# Define your English labels\n",
    "# IMPORTANT: This list order MUST match the order of your dataset's classes\n",
    "# For example, if val_loader.dataset.classes is ['curva_apex', 'freada', 'reta', 'saida_curva']\n",
    "# then the order below should correspond to that.\n",
    "english_labels = ['Mid Corner', 'Braking', 'Straight', 'Exit Corner']\n",
    "\n",
    "# Plot the confusion matrix using seaborn\n",
    "plt.figure(figsize=(9, 7))\n",
    "sns.heatmap(cm, annot=True, fmt='d', cmap='Blues',\n",
    "            xticklabels=english_labels,\n",
    "            yticklabels=english_labels,\n",
    "            annot_kws={\"size\": 14}) # Adjust font size of the numbers\n",
    "\n",
    "# Add titles and labels for clarity\n",
    "plt.title('Confusion Matrix - Base Model', fontsize=16)\n",
    "plt.xlabel('Predicted Label', fontsize=14)\n",
    "plt.ylabel('True Label', fontsize=14)\n",
    "\n",
    "# Rotate labels for better readability\n",
    "plt.xticks(rotation=45, ha='right')\n",
    "plt.yticks(rotation=0)\n",
    "\n",
    "plt.tight_layout() # Adjust layout to make sure everything fits\n",
    "plt.show()"
   ]
  },
  {
   "cell_type": "markdown",
   "metadata": {},
   "source": [
    "# Optimal Learning Rate\n",
    "\n"
   ]
  },
  {
   "cell_type": "code",
   "execution_count": null,
   "metadata": {},
   "outputs": [],
   "source": [
    "from torch_lr_finder import LRFinder"
   ]
  },
  {
   "cell_type": "code",
   "execution_count": null,
   "metadata": {},
   "outputs": [],
   "source": [
    "torch.manual_seed(11)\n",
    "new_base_model = CNN4(n_feature=5, p=0.3)\n",
    "multi_loss_fn = nn.CrossEntropyLoss(reduction='mean')\n",
    "new_optimizer = optim.Adam(new_base_model.parameters(), lr=3e-4)\n",
    "device = 'cuda' if torch.cuda.is_available() else 'cpu'\n",
    "\n",
    "lr_finder = LRFinder(\n",
    "    new_base_model, new_optimizer, multi_loss_fn, device=device\n",
    ")\n",
    "lr_finder.range_test(train_loader_3, end_lr=1e-1, num_iter=100)\n",
    "lr_finder.plot(log_lr=True)\n",
    "lr_finder.reset()"
   ]
  },
  {
   "cell_type": "markdown",
   "metadata": {},
   "source": [
    "Using the LR Finder with our models, it suggests to use lambda rate = `3.53e-3`"
   ]
  },
  {
   "cell_type": "markdown",
   "metadata": {},
   "source": [
    "# Task - Retraining with new lambda rate\n",
    "\n",
    "In this task we will calculate the training losses using the suggested lambda rate of 3.53E-3"
   ]
  },
  {
   "cell_type": "code",
   "execution_count": null,
   "metadata": {},
   "outputs": [],
   "source": [
    "# Set the suggested learning rate for all optimizers\n",
    "suggested_lr = 3.53e-3"
   ]
  },
  {
   "cell_type": "code",
   "execution_count": null,
   "metadata": {},
   "outputs": [],
   "source": [
    "# Load all four models and their architectures for evaluation\n",
    "\n",
    "## Model 1\n",
    "base_model2_cnn4 = CNN4(n_feature=5, p=0.3)\n",
    "# Loss function\n",
    "multi_loss_fn = nn.CrossEntropyLoss(reduction='mean')\n",
    "# Optimizer\n",
    "new_base_optimizer_cnn4 = optim.Adam(base_model2_cnn4.parameters(), lr=suggested_lr)    \n",
    "# Load model 1\n",
    "base_model2_cnn4.load_state_dict(torch.load('base_model2_cnn4.pth'))\n",
    "#Architecture\n",
    "arch_cnn4 = Architecture(base_model2_cnn4, multi_loss_fn, base_optimizer_cnn4)\n",
    "arch_cnn4.set_loaders(train_loader_3, val_loader_3)\n",
    "base_model2_cnn4.eval()\n",
    "\n",
    "\n",
    "# Model 2\n",
    "model2_cnn4 = CNN4(n_feature=3, p=0.3)\n",
    "# Loss function\n",
    "multi_loss_fn = nn.CrossEntropyLoss(reduction='mean')\n",
    "# Optimizer\n",
    "new_optimizer2_cnn4 = optim.Adam(model2_cnn4.parameters(), lr=suggested_lr)\n",
    "# Load model 2   \n",
    "model2_cnn4.load_state_dict(torch.load('model2_cnn4.pth'))\n",
    "arch2_cnn4 = Architecture(model2_cnn4, multi_loss_fn, optimizer2_cnn4)\n",
    "arch2_cnn4.set_loaders(train_loader_3, val_loader_3)\n",
    "model2_cnn4.eval()\n",
    "\n",
    "# Model 3\n",
    "model3_cnn4 = CNN4(n_feature=10, p=0.3)\n",
    "# Loss function\n",
    "multi_loss_fn = nn.CrossEntropyLoss(reduction='mean')\n",
    "# Optimizer\n",
    "new_optimizer3_cnn4 = optim.Adam(model3_cnn4.parameters(), lr=suggested_lr)\n",
    "# Load model 3\n",
    "model3_cnn4.load_state_dict(torch.load('model3_cnn4.pth'))\n",
    "arch3_cnn4 = Architecture(model3_cnn4, multi_loss_fn, optimizer3_cnn4)\n",
    "arch3_cnn4.set_loaders(train_loader_3, val_loader_3)\n",
    "model3_cnn4.eval()\n",
    "\n",
    "# Model 4\n",
    "model4_cnn5 = CNN5(n_feature=5, p=0.3)\n",
    "# Loss function\n",
    "multi_loss_fn = nn.CrossEntropyLoss(reduction='mean')\n",
    "# Optimizer\n",
    "new_optimizer4_cnn5 = optim.Adam(model4_cnn5.parameters(), lr=suggested_lr)\n",
    "# Load model 4\n",
    "model4_cnn5.load_state_dict(torch.load('model4_cnn5.pth'))\n",
    "#Architecture\n",
    "arch4_cnn5 = Architecture(model4_cnn5, multi_loss_fn, optimizer4_cnn5)\n",
    "arch4_cnn5.set_loaders(train_loader_3, val_loader_3)\n",
    "model4_cnn5.eval()\n",
    "\n",
    "#print models layers\n",
    "print(\"Model 1 (CNN4, n_feature=5):\")\n",
    "for name, param in base_model2_cnn4.named_parameters():\n",
    "    if param.requires_grad:\n",
    "        print(f\"{name}: {param.shape}\")\n",
    "print(\"\\nModel 2 (CNN4, n_feature=3):\")\n",
    "for name, param in model2_cnn4.named_parameters():\n",
    "    if param.requires_grad:\n",
    "        print(f\"{name}: {param.shape}\")\n",
    "print(\"\\nModel 3 (CNN4, n_feature=10):\")\n",
    "for name, param in model3_cnn4.named_parameters():\n",
    "    if param.requires_grad:\n",
    "        print(f\"{name}: {param.shape}\") \n",
    "print(\"\\nModel 4 (CNN5, n_feature=5):\")\n",
    "for name, param in model4_cnn5.named_parameters():\n",
    "    if param.requires_grad:\n",
    "        print(f\"{name}: {param.shape}\")\n"
   ]
  },
  {
   "cell_type": "code",
   "execution_count": null,
   "metadata": {},
   "outputs": [],
   "source": [
    "# Retrain Model 1 (n_feature=5)\n",
    "arch_cnn4 = Architecture(base_model2_cnn4, multi_loss_fn, new_base_optimizer_cnn4)\n",
    "arch_cnn4.set_loaders(train_loader_3, val_loader_3)\n",
    "arch_cnn4.train(7)\n",
    "\n",
    "# Save the retrained base model\n",
    "torch.save(base_model2_cnn4.state_dict(), 'retrained_base_model2_cnn4.pth')"
   ]
  },
  {
   "cell_type": "code",
   "execution_count": null,
   "metadata": {},
   "outputs": [],
   "source": [
    "# Retrain Model 2 (n_feature=3)\n",
    "arch2_cnn4 = Architecture(model2_cnn4, multi_loss_fn, new_optimizer2_cnn4)\n",
    "arch2_cnn4.set_loaders(train_loader_3, val_loader_3)\n",
    "arch2_cnn4.train(7)\n",
    "\n",
    "#save the retrained model 2\n",
    "torch.save(model2_cnn4.state_dict(), 'retrained_model2_cnn4.pth')\n"
   ]
  },
  {
   "cell_type": "code",
   "execution_count": null,
   "metadata": {},
   "outputs": [],
   "source": [
    "# Retrain Model 3 (n_feature=10)\n",
    "arch3_cnn4 = Architecture(model3_cnn4, multi_loss_fn, new_optimizer3_cnn4)\n",
    "arch3_cnn4.set_loaders(train_loader_3, val_loader_3)\n",
    "arch3_cnn4.train(7)\n",
    "\n",
    "#save the retrained model 3\n",
    "torch.save(model3_cnn4.state_dict(), 'retrained_model3_cnn4.pth')"
   ]
  },
  {
   "cell_type": "code",
   "execution_count": null,
   "metadata": {},
   "outputs": [],
   "source": [
    "# Retrain Model 4 (n_feature=5)\n",
    "arch4_cnn5 = Architecture(model4_cnn5, multi_loss_fn, new_optimizer4_cnn5)\n",
    "arch4_cnn5.set_loaders(train_loader_3, val_loader_3)\n",
    "arch4_cnn5.train(7)\n",
    "\n",
    "#save the retrained model 4\n",
    "torch.save(model4_cnn5.state_dict(), 'retrained_model4_cnn5.pth')   "
   ]
  },
  {
   "cell_type": "markdown",
   "metadata": {},
   "source": [
    "## Plot losses"
   ]
  },
  {
   "cell_type": "code",
   "execution_count": null,
   "metadata": {},
   "outputs": [],
   "source": [
    "#plot losses for retrained models\n",
    "fig = arch_cnn4.plot_losses()\n",
    "#fig = arch2_cnn4.plot_losses()\n",
    "#fig = arch3_cnn4.plot_losses()\n",
    "#fig = arch4_cnn5.plot_losses()"
   ]
  },
  {
   "cell_type": "markdown",
   "metadata": {},
   "source": [
    "## Models Accuracies"
   ]
  },
  {
   "cell_type": "code",
   "execution_count": null,
   "metadata": {},
   "outputs": [],
   "source": [
    "# Evaluate the retrained models\n",
    "correct_counts_retrained = Architecture.loader_apply(val_loader_3, arch_cnn4.correct)\n",
    "correct_counts_retrained2 = Architecture.loader_apply(val_loader_3, arch2_cnn4.correct)\n",
    "correct_counts_retrained3 = Architecture.loader_apply(val_loader_3, arch3_cnn4.correct)\n",
    "correct_counts_retrained4 = Architecture.loader_apply(val_loader_3, arch4_cnn5.correct)\n",
    "# Calculate accuracy for retrained models\n",
    "def calculate_accuracy(correct_counts):\n",
    "    total_correct = correct_counts[:, 0].sum().item()\n",
    "    total_samples = correct_counts[:, 1].sum().item()\n",
    "    return (total_correct / total_samples) * 100  # Convert to percentage\n",
    "acc_retrained = calculate_accuracy(correct_counts_retrained)\n",
    "acc_retrained2 = calculate_accuracy(correct_counts_retrained2)\n",
    "acc_retrained3 = calculate_accuracy(correct_counts_retrained3)\n",
    "acc_retrained4 = calculate_accuracy(correct_counts_retrained4)\n",
    "# Print retrained model accuracies\n",
    "print(f\"Re-trained Model 1 (n_feature=5):   Accuracy = {acc_retrained:.2f}%\")\n",
    "print(f\"Re-trained Model 2 (n_feature=3):   Accuracy = {acc_retrained2:.2f}%\")\n",
    "print(f\"Re-trained Model 3 (n_feature=10):  Accuracy = {acc_retrained3:.2f}%\")\n",
    "print(f\"Re-trained Model 4 (n_feature=5):   Accuracy = {acc_retrained4:.2f}%\")"
   ]
  }
 ],
 "metadata": {
  "accelerator": "GPU",
  "colab": {
   "authorship_tag": "ABX9TyOtVk2h00bhyPmj+u7m8ey9",
   "gpuType": "T4",
   "include_colab_link": true,
   "mount_file_id": "1_qWyCblfF8B7RXdqjIl202iKnbosspKp",
   "provenance": []
  },
  "kernelspec": {
   "display_name": "pytorch",
   "language": "python",
   "name": "python3"
  },
  "language_info": {
   "codemirror_mode": {
    "name": "ipython",
    "version": 3
   },
   "file_extension": ".py",
   "mimetype": "text/x-python",
   "name": "python",
   "nbconvert_exporter": "python",
   "pygments_lexer": "ipython3",
   "version": "3.13.5"
  }
 },
 "nbformat": 4,
 "nbformat_minor": 0
}
